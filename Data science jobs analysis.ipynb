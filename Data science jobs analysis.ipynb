{
 "cells": [
  {
   "cell_type": "markdown",
   "id": "8d084d12",
   "metadata": {},
   "source": [
    "#                              Data Science Jobs Analysis\n",
    "\n",
    "Data science is the domain of study that deals with vast volumes of data using modern tools and techniques to find unseen patterns, derive meaningful information, and make business decisions. Data science uses complex machine learning algorithms to build predictive models. The data used for analysis can come from many different sources and be presented in various formats. Data science is an essential part of many industries today, given the massive amounts of data that are produced, and is one of the most debated topics in IT circles."
   ]
  },
  {
   "cell_type": "code",
   "execution_count": 1,
   "id": "2d151b3f",
   "metadata": {},
   "outputs": [],
   "source": [
    "import pandas as pd\n",
    "import numpy as np\n",
    "import seaborn as sns\n",
    "import matplotlib.pyplot as plt"
   ]
  },
  {
   "cell_type": "code",
   "execution_count": 2,
   "id": "4148fcc4",
   "metadata": {
    "scrolled": true
   },
   "outputs": [
    {
     "data": {
      "text/html": [
       "<div>\n",
       "<style scoped>\n",
       "    .dataframe tbody tr th:only-of-type {\n",
       "        vertical-align: middle;\n",
       "    }\n",
       "\n",
       "    .dataframe tbody tr th {\n",
       "        vertical-align: top;\n",
       "    }\n",
       "\n",
       "    .dataframe thead th {\n",
       "        text-align: right;\n",
       "    }\n",
       "</style>\n",
       "<table border=\"1\" class=\"dataframe\">\n",
       "  <thead>\n",
       "    <tr style=\"text-align: right;\">\n",
       "      <th></th>\n",
       "      <th>Unnamed: 0</th>\n",
       "      <th>work_year</th>\n",
       "      <th>experience_level</th>\n",
       "      <th>employment_type</th>\n",
       "      <th>job_title</th>\n",
       "      <th>salary</th>\n",
       "      <th>salary_currency</th>\n",
       "      <th>salary_in_usd</th>\n",
       "      <th>employee_residence</th>\n",
       "      <th>remote_ratio</th>\n",
       "      <th>company_location</th>\n",
       "      <th>company_size</th>\n",
       "    </tr>\n",
       "  </thead>\n",
       "  <tbody>\n",
       "    <tr>\n",
       "      <th>0</th>\n",
       "      <td>0</td>\n",
       "      <td>2020</td>\n",
       "      <td>MI</td>\n",
       "      <td>FT</td>\n",
       "      <td>Data Scientist</td>\n",
       "      <td>70000</td>\n",
       "      <td>EUR</td>\n",
       "      <td>79833</td>\n",
       "      <td>DE</td>\n",
       "      <td>0</td>\n",
       "      <td>DE</td>\n",
       "      <td>L</td>\n",
       "    </tr>\n",
       "    <tr>\n",
       "      <th>1</th>\n",
       "      <td>1</td>\n",
       "      <td>2020</td>\n",
       "      <td>SE</td>\n",
       "      <td>FT</td>\n",
       "      <td>Machine Learning Scientist</td>\n",
       "      <td>260000</td>\n",
       "      <td>USD</td>\n",
       "      <td>260000</td>\n",
       "      <td>JP</td>\n",
       "      <td>0</td>\n",
       "      <td>JP</td>\n",
       "      <td>S</td>\n",
       "    </tr>\n",
       "    <tr>\n",
       "      <th>2</th>\n",
       "      <td>2</td>\n",
       "      <td>2020</td>\n",
       "      <td>SE</td>\n",
       "      <td>FT</td>\n",
       "      <td>Big Data Engineer</td>\n",
       "      <td>85000</td>\n",
       "      <td>GBP</td>\n",
       "      <td>109024</td>\n",
       "      <td>GB</td>\n",
       "      <td>50</td>\n",
       "      <td>GB</td>\n",
       "      <td>M</td>\n",
       "    </tr>\n",
       "    <tr>\n",
       "      <th>3</th>\n",
       "      <td>3</td>\n",
       "      <td>2020</td>\n",
       "      <td>MI</td>\n",
       "      <td>FT</td>\n",
       "      <td>Product Data Analyst</td>\n",
       "      <td>20000</td>\n",
       "      <td>USD</td>\n",
       "      <td>20000</td>\n",
       "      <td>HN</td>\n",
       "      <td>0</td>\n",
       "      <td>HN</td>\n",
       "      <td>S</td>\n",
       "    </tr>\n",
       "    <tr>\n",
       "      <th>4</th>\n",
       "      <td>4</td>\n",
       "      <td>2020</td>\n",
       "      <td>SE</td>\n",
       "      <td>FT</td>\n",
       "      <td>Machine Learning Engineer</td>\n",
       "      <td>150000</td>\n",
       "      <td>USD</td>\n",
       "      <td>150000</td>\n",
       "      <td>US</td>\n",
       "      <td>50</td>\n",
       "      <td>US</td>\n",
       "      <td>L</td>\n",
       "    </tr>\n",
       "    <tr>\n",
       "      <th>...</th>\n",
       "      <td>...</td>\n",
       "      <td>...</td>\n",
       "      <td>...</td>\n",
       "      <td>...</td>\n",
       "      <td>...</td>\n",
       "      <td>...</td>\n",
       "      <td>...</td>\n",
       "      <td>...</td>\n",
       "      <td>...</td>\n",
       "      <td>...</td>\n",
       "      <td>...</td>\n",
       "      <td>...</td>\n",
       "    </tr>\n",
       "    <tr>\n",
       "      <th>602</th>\n",
       "      <td>602</td>\n",
       "      <td>2022</td>\n",
       "      <td>SE</td>\n",
       "      <td>FT</td>\n",
       "      <td>Data Engineer</td>\n",
       "      <td>154000</td>\n",
       "      <td>USD</td>\n",
       "      <td>154000</td>\n",
       "      <td>US</td>\n",
       "      <td>100</td>\n",
       "      <td>US</td>\n",
       "      <td>M</td>\n",
       "    </tr>\n",
       "    <tr>\n",
       "      <th>603</th>\n",
       "      <td>603</td>\n",
       "      <td>2022</td>\n",
       "      <td>SE</td>\n",
       "      <td>FT</td>\n",
       "      <td>Data Engineer</td>\n",
       "      <td>126000</td>\n",
       "      <td>USD</td>\n",
       "      <td>126000</td>\n",
       "      <td>US</td>\n",
       "      <td>100</td>\n",
       "      <td>US</td>\n",
       "      <td>M</td>\n",
       "    </tr>\n",
       "    <tr>\n",
       "      <th>604</th>\n",
       "      <td>604</td>\n",
       "      <td>2022</td>\n",
       "      <td>SE</td>\n",
       "      <td>FT</td>\n",
       "      <td>Data Analyst</td>\n",
       "      <td>129000</td>\n",
       "      <td>USD</td>\n",
       "      <td>129000</td>\n",
       "      <td>US</td>\n",
       "      <td>0</td>\n",
       "      <td>US</td>\n",
       "      <td>M</td>\n",
       "    </tr>\n",
       "    <tr>\n",
       "      <th>605</th>\n",
       "      <td>605</td>\n",
       "      <td>2022</td>\n",
       "      <td>SE</td>\n",
       "      <td>FT</td>\n",
       "      <td>Data Analyst</td>\n",
       "      <td>150000</td>\n",
       "      <td>USD</td>\n",
       "      <td>150000</td>\n",
       "      <td>US</td>\n",
       "      <td>100</td>\n",
       "      <td>US</td>\n",
       "      <td>M</td>\n",
       "    </tr>\n",
       "    <tr>\n",
       "      <th>606</th>\n",
       "      <td>606</td>\n",
       "      <td>2022</td>\n",
       "      <td>MI</td>\n",
       "      <td>FT</td>\n",
       "      <td>AI Scientist</td>\n",
       "      <td>200000</td>\n",
       "      <td>USD</td>\n",
       "      <td>200000</td>\n",
       "      <td>IN</td>\n",
       "      <td>100</td>\n",
       "      <td>US</td>\n",
       "      <td>L</td>\n",
       "    </tr>\n",
       "  </tbody>\n",
       "</table>\n",
       "<p>607 rows × 12 columns</p>\n",
       "</div>"
      ],
      "text/plain": [
       "     Unnamed: 0  work_year experience_level employment_type  \\\n",
       "0             0       2020               MI              FT   \n",
       "1             1       2020               SE              FT   \n",
       "2             2       2020               SE              FT   \n",
       "3             3       2020               MI              FT   \n",
       "4             4       2020               SE              FT   \n",
       "..          ...        ...              ...             ...   \n",
       "602         602       2022               SE              FT   \n",
       "603         603       2022               SE              FT   \n",
       "604         604       2022               SE              FT   \n",
       "605         605       2022               SE              FT   \n",
       "606         606       2022               MI              FT   \n",
       "\n",
       "                      job_title  salary salary_currency  salary_in_usd  \\\n",
       "0                Data Scientist   70000             EUR          79833   \n",
       "1    Machine Learning Scientist  260000             USD         260000   \n",
       "2             Big Data Engineer   85000             GBP         109024   \n",
       "3          Product Data Analyst   20000             USD          20000   \n",
       "4     Machine Learning Engineer  150000             USD         150000   \n",
       "..                          ...     ...             ...            ...   \n",
       "602               Data Engineer  154000             USD         154000   \n",
       "603               Data Engineer  126000             USD         126000   \n",
       "604                Data Analyst  129000             USD         129000   \n",
       "605                Data Analyst  150000             USD         150000   \n",
       "606                AI Scientist  200000             USD         200000   \n",
       "\n",
       "    employee_residence  remote_ratio company_location company_size  \n",
       "0                   DE             0               DE            L  \n",
       "1                   JP             0               JP            S  \n",
       "2                   GB            50               GB            M  \n",
       "3                   HN             0               HN            S  \n",
       "4                   US            50               US            L  \n",
       "..                 ...           ...              ...          ...  \n",
       "602                 US           100               US            M  \n",
       "603                 US           100               US            M  \n",
       "604                 US             0               US            M  \n",
       "605                 US           100               US            M  \n",
       "606                 IN           100               US            L  \n",
       "\n",
       "[607 rows x 12 columns]"
      ]
     },
     "execution_count": 2,
     "metadata": {},
     "output_type": "execute_result"
    }
   ],
   "source": [
    "df=pd.read_csv('ds.salaries.csv')\n",
    "df"
   ]
  },
  {
   "cell_type": "code",
   "execution_count": 3,
   "id": "6b191244",
   "metadata": {},
   "outputs": [
    {
     "name": "stdout",
     "output_type": "stream",
     "text": [
      "<class 'pandas.core.frame.DataFrame'>\n",
      "RangeIndex: 607 entries, 0 to 606\n",
      "Data columns (total 12 columns):\n",
      " #   Column              Non-Null Count  Dtype \n",
      "---  ------              --------------  ----- \n",
      " 0   Unnamed: 0          607 non-null    int64 \n",
      " 1   work_year           607 non-null    int64 \n",
      " 2   experience_level    607 non-null    object\n",
      " 3   employment_type     607 non-null    object\n",
      " 4   job_title           607 non-null    object\n",
      " 5   salary              607 non-null    int64 \n",
      " 6   salary_currency     607 non-null    object\n",
      " 7   salary_in_usd       607 non-null    int64 \n",
      " 8   employee_residence  607 non-null    object\n",
      " 9   remote_ratio        607 non-null    int64 \n",
      " 10  company_location    607 non-null    object\n",
      " 11  company_size        607 non-null    object\n",
      "dtypes: int64(5), object(7)\n",
      "memory usage: 57.0+ KB\n"
     ]
    }
   ],
   "source": [
    "df.info()"
   ]
  },
  {
   "cell_type": "code",
   "execution_count": 4,
   "id": "df76b823",
   "metadata": {},
   "outputs": [
    {
     "data": {
      "text/plain": [
       "(607, 12)"
      ]
     },
     "execution_count": 4,
     "metadata": {},
     "output_type": "execute_result"
    }
   ],
   "source": [
    "df.shape"
   ]
  },
  {
   "cell_type": "code",
   "execution_count": 5,
   "id": "900cdc4f",
   "metadata": {},
   "outputs": [
    {
     "data": {
      "text/plain": [
       "False    607\n",
       "dtype: int64"
      ]
     },
     "execution_count": 5,
     "metadata": {},
     "output_type": "execute_result"
    }
   ],
   "source": [
    "df.duplicated().value_counts()"
   ]
  },
  {
   "cell_type": "markdown",
   "id": "29c35ce2",
   "metadata": {},
   "source": [
    "as we see there is no null and duplicated values"
   ]
  },
  {
   "cell_type": "markdown",
   "id": "667d2c65",
   "metadata": {},
   "source": [
    "### we can drop unnamed: 0 column as it not imp"
   ]
  },
  {
   "cell_type": "code",
   "execution_count": 6,
   "id": "1acf97f2",
   "metadata": {},
   "outputs": [],
   "source": [
    "df.drop(['Unnamed: 0'],axis=1,inplace=True)"
   ]
  },
  {
   "cell_type": "code",
   "execution_count": 7,
   "id": "3940c105",
   "metadata": {},
   "outputs": [
    {
     "data": {
      "text/html": [
       "<div>\n",
       "<style scoped>\n",
       "    .dataframe tbody tr th:only-of-type {\n",
       "        vertical-align: middle;\n",
       "    }\n",
       "\n",
       "    .dataframe tbody tr th {\n",
       "        vertical-align: top;\n",
       "    }\n",
       "\n",
       "    .dataframe thead th {\n",
       "        text-align: right;\n",
       "    }\n",
       "</style>\n",
       "<table border=\"1\" class=\"dataframe\">\n",
       "  <thead>\n",
       "    <tr style=\"text-align: right;\">\n",
       "      <th></th>\n",
       "      <th>work_year</th>\n",
       "      <th>experience_level</th>\n",
       "      <th>employment_type</th>\n",
       "      <th>job_title</th>\n",
       "      <th>salary</th>\n",
       "      <th>salary_currency</th>\n",
       "      <th>salary_in_usd</th>\n",
       "      <th>employee_residence</th>\n",
       "      <th>remote_ratio</th>\n",
       "      <th>company_location</th>\n",
       "      <th>company_size</th>\n",
       "    </tr>\n",
       "  </thead>\n",
       "  <tbody>\n",
       "    <tr>\n",
       "      <th>0</th>\n",
       "      <td>2020</td>\n",
       "      <td>MI</td>\n",
       "      <td>FT</td>\n",
       "      <td>Data Scientist</td>\n",
       "      <td>70000</td>\n",
       "      <td>EUR</td>\n",
       "      <td>79833</td>\n",
       "      <td>DE</td>\n",
       "      <td>0</td>\n",
       "      <td>DE</td>\n",
       "      <td>L</td>\n",
       "    </tr>\n",
       "    <tr>\n",
       "      <th>1</th>\n",
       "      <td>2020</td>\n",
       "      <td>SE</td>\n",
       "      <td>FT</td>\n",
       "      <td>Machine Learning Scientist</td>\n",
       "      <td>260000</td>\n",
       "      <td>USD</td>\n",
       "      <td>260000</td>\n",
       "      <td>JP</td>\n",
       "      <td>0</td>\n",
       "      <td>JP</td>\n",
       "      <td>S</td>\n",
       "    </tr>\n",
       "    <tr>\n",
       "      <th>2</th>\n",
       "      <td>2020</td>\n",
       "      <td>SE</td>\n",
       "      <td>FT</td>\n",
       "      <td>Big Data Engineer</td>\n",
       "      <td>85000</td>\n",
       "      <td>GBP</td>\n",
       "      <td>109024</td>\n",
       "      <td>GB</td>\n",
       "      <td>50</td>\n",
       "      <td>GB</td>\n",
       "      <td>M</td>\n",
       "    </tr>\n",
       "    <tr>\n",
       "      <th>3</th>\n",
       "      <td>2020</td>\n",
       "      <td>MI</td>\n",
       "      <td>FT</td>\n",
       "      <td>Product Data Analyst</td>\n",
       "      <td>20000</td>\n",
       "      <td>USD</td>\n",
       "      <td>20000</td>\n",
       "      <td>HN</td>\n",
       "      <td>0</td>\n",
       "      <td>HN</td>\n",
       "      <td>S</td>\n",
       "    </tr>\n",
       "    <tr>\n",
       "      <th>4</th>\n",
       "      <td>2020</td>\n",
       "      <td>SE</td>\n",
       "      <td>FT</td>\n",
       "      <td>Machine Learning Engineer</td>\n",
       "      <td>150000</td>\n",
       "      <td>USD</td>\n",
       "      <td>150000</td>\n",
       "      <td>US</td>\n",
       "      <td>50</td>\n",
       "      <td>US</td>\n",
       "      <td>L</td>\n",
       "    </tr>\n",
       "    <tr>\n",
       "      <th>5</th>\n",
       "      <td>2020</td>\n",
       "      <td>EN</td>\n",
       "      <td>FT</td>\n",
       "      <td>Data Analyst</td>\n",
       "      <td>72000</td>\n",
       "      <td>USD</td>\n",
       "      <td>72000</td>\n",
       "      <td>US</td>\n",
       "      <td>100</td>\n",
       "      <td>US</td>\n",
       "      <td>L</td>\n",
       "    </tr>\n",
       "    <tr>\n",
       "      <th>6</th>\n",
       "      <td>2020</td>\n",
       "      <td>SE</td>\n",
       "      <td>FT</td>\n",
       "      <td>Lead Data Scientist</td>\n",
       "      <td>190000</td>\n",
       "      <td>USD</td>\n",
       "      <td>190000</td>\n",
       "      <td>US</td>\n",
       "      <td>100</td>\n",
       "      <td>US</td>\n",
       "      <td>S</td>\n",
       "    </tr>\n",
       "  </tbody>\n",
       "</table>\n",
       "</div>"
      ],
      "text/plain": [
       "   work_year experience_level employment_type                   job_title  \\\n",
       "0       2020               MI              FT              Data Scientist   \n",
       "1       2020               SE              FT  Machine Learning Scientist   \n",
       "2       2020               SE              FT           Big Data Engineer   \n",
       "3       2020               MI              FT        Product Data Analyst   \n",
       "4       2020               SE              FT   Machine Learning Engineer   \n",
       "5       2020               EN              FT                Data Analyst   \n",
       "6       2020               SE              FT         Lead Data Scientist   \n",
       "\n",
       "   salary salary_currency  salary_in_usd employee_residence  remote_ratio  \\\n",
       "0   70000             EUR          79833                 DE             0   \n",
       "1  260000             USD         260000                 JP             0   \n",
       "2   85000             GBP         109024                 GB            50   \n",
       "3   20000             USD          20000                 HN             0   \n",
       "4  150000             USD         150000                 US            50   \n",
       "5   72000             USD          72000                 US           100   \n",
       "6  190000             USD         190000                 US           100   \n",
       "\n",
       "  company_location company_size  \n",
       "0               DE            L  \n",
       "1               JP            S  \n",
       "2               GB            M  \n",
       "3               HN            S  \n",
       "4               US            L  \n",
       "5               US            L  \n",
       "6               US            S  "
      ]
     },
     "execution_count": 7,
     "metadata": {},
     "output_type": "execute_result"
    }
   ],
   "source": [
    "df.head(7)"
   ]
  },
  {
   "cell_type": "code",
   "execution_count": 8,
   "id": "08e7adda",
   "metadata": {},
   "outputs": [],
   "source": [
    "df.set_index('work_year',inplace=True)"
   ]
  },
  {
   "cell_type": "code",
   "execution_count": 9,
   "id": "dff59510",
   "metadata": {},
   "outputs": [],
   "source": [
    " df.index.name=''"
   ]
  },
  {
   "cell_type": "code",
   "execution_count": 10,
   "id": "f86b4187",
   "metadata": {},
   "outputs": [
    {
     "data": {
      "text/html": [
       "<div>\n",
       "<style scoped>\n",
       "    .dataframe tbody tr th:only-of-type {\n",
       "        vertical-align: middle;\n",
       "    }\n",
       "\n",
       "    .dataframe tbody tr th {\n",
       "        vertical-align: top;\n",
       "    }\n",
       "\n",
       "    .dataframe thead th {\n",
       "        text-align: right;\n",
       "    }\n",
       "</style>\n",
       "<table border=\"1\" class=\"dataframe\">\n",
       "  <thead>\n",
       "    <tr style=\"text-align: right;\">\n",
       "      <th></th>\n",
       "      <th>experience_level</th>\n",
       "      <th>employment_type</th>\n",
       "      <th>job_title</th>\n",
       "      <th>salary</th>\n",
       "      <th>salary_currency</th>\n",
       "      <th>salary_in_usd</th>\n",
       "      <th>employee_residence</th>\n",
       "      <th>remote_ratio</th>\n",
       "      <th>company_location</th>\n",
       "      <th>company_size</th>\n",
       "    </tr>\n",
       "    <tr>\n",
       "      <th></th>\n",
       "      <th></th>\n",
       "      <th></th>\n",
       "      <th></th>\n",
       "      <th></th>\n",
       "      <th></th>\n",
       "      <th></th>\n",
       "      <th></th>\n",
       "      <th></th>\n",
       "      <th></th>\n",
       "      <th></th>\n",
       "    </tr>\n",
       "  </thead>\n",
       "  <tbody>\n",
       "    <tr>\n",
       "      <th>2022</th>\n",
       "      <td>SE</td>\n",
       "      <td>FT</td>\n",
       "      <td>Data Engineer</td>\n",
       "      <td>154000</td>\n",
       "      <td>USD</td>\n",
       "      <td>154000</td>\n",
       "      <td>US</td>\n",
       "      <td>100</td>\n",
       "      <td>US</td>\n",
       "      <td>M</td>\n",
       "    </tr>\n",
       "    <tr>\n",
       "      <th>2022</th>\n",
       "      <td>SE</td>\n",
       "      <td>FT</td>\n",
       "      <td>Data Engineer</td>\n",
       "      <td>126000</td>\n",
       "      <td>USD</td>\n",
       "      <td>126000</td>\n",
       "      <td>US</td>\n",
       "      <td>100</td>\n",
       "      <td>US</td>\n",
       "      <td>M</td>\n",
       "    </tr>\n",
       "    <tr>\n",
       "      <th>2022</th>\n",
       "      <td>SE</td>\n",
       "      <td>FT</td>\n",
       "      <td>Data Analyst</td>\n",
       "      <td>129000</td>\n",
       "      <td>USD</td>\n",
       "      <td>129000</td>\n",
       "      <td>US</td>\n",
       "      <td>0</td>\n",
       "      <td>US</td>\n",
       "      <td>M</td>\n",
       "    </tr>\n",
       "    <tr>\n",
       "      <th>2022</th>\n",
       "      <td>SE</td>\n",
       "      <td>FT</td>\n",
       "      <td>Data Analyst</td>\n",
       "      <td>150000</td>\n",
       "      <td>USD</td>\n",
       "      <td>150000</td>\n",
       "      <td>US</td>\n",
       "      <td>100</td>\n",
       "      <td>US</td>\n",
       "      <td>M</td>\n",
       "    </tr>\n",
       "    <tr>\n",
       "      <th>2022</th>\n",
       "      <td>MI</td>\n",
       "      <td>FT</td>\n",
       "      <td>AI Scientist</td>\n",
       "      <td>200000</td>\n",
       "      <td>USD</td>\n",
       "      <td>200000</td>\n",
       "      <td>IN</td>\n",
       "      <td>100</td>\n",
       "      <td>US</td>\n",
       "      <td>L</td>\n",
       "    </tr>\n",
       "  </tbody>\n",
       "</table>\n",
       "</div>"
      ],
      "text/plain": [
       "     experience_level employment_type      job_title  salary salary_currency  \\\n",
       "                                                                               \n",
       "2022               SE              FT  Data Engineer  154000             USD   \n",
       "2022               SE              FT  Data Engineer  126000             USD   \n",
       "2022               SE              FT   Data Analyst  129000             USD   \n",
       "2022               SE              FT   Data Analyst  150000             USD   \n",
       "2022               MI              FT   AI Scientist  200000             USD   \n",
       "\n",
       "      salary_in_usd employee_residence  remote_ratio company_location  \\\n",
       "                                                                        \n",
       "2022         154000                 US           100               US   \n",
       "2022         126000                 US           100               US   \n",
       "2022         129000                 US             0               US   \n",
       "2022         150000                 US           100               US   \n",
       "2022         200000                 IN           100               US   \n",
       "\n",
       "     company_size  \n",
       "                   \n",
       "2022            M  \n",
       "2022            M  \n",
       "2022            M  \n",
       "2022            M  \n",
       "2022            L  "
      ]
     },
     "execution_count": 10,
     "metadata": {},
     "output_type": "execute_result"
    }
   ],
   "source": [
    "df.tail()"
   ]
  },
  {
   "cell_type": "code",
   "execution_count": 11,
   "id": "3af536e8",
   "metadata": {},
   "outputs": [
    {
     "data": {
      "text/html": [
       "<div>\n",
       "<style scoped>\n",
       "    .dataframe tbody tr th:only-of-type {\n",
       "        vertical-align: middle;\n",
       "    }\n",
       "\n",
       "    .dataframe tbody tr th {\n",
       "        vertical-align: top;\n",
       "    }\n",
       "\n",
       "    .dataframe thead th {\n",
       "        text-align: right;\n",
       "    }\n",
       "</style>\n",
       "<table border=\"1\" class=\"dataframe\">\n",
       "  <thead>\n",
       "    <tr style=\"text-align: right;\">\n",
       "      <th></th>\n",
       "      <th>salary</th>\n",
       "      <th>salary_in_usd</th>\n",
       "      <th>remote_ratio</th>\n",
       "    </tr>\n",
       "  </thead>\n",
       "  <tbody>\n",
       "    <tr>\n",
       "      <th>count</th>\n",
       "      <td>6.070000e+02</td>\n",
       "      <td>607.000000</td>\n",
       "      <td>607.00000</td>\n",
       "    </tr>\n",
       "    <tr>\n",
       "      <th>mean</th>\n",
       "      <td>3.240001e+05</td>\n",
       "      <td>112297.869852</td>\n",
       "      <td>70.92257</td>\n",
       "    </tr>\n",
       "    <tr>\n",
       "      <th>std</th>\n",
       "      <td>1.544357e+06</td>\n",
       "      <td>70957.259411</td>\n",
       "      <td>40.70913</td>\n",
       "    </tr>\n",
       "    <tr>\n",
       "      <th>min</th>\n",
       "      <td>4.000000e+03</td>\n",
       "      <td>2859.000000</td>\n",
       "      <td>0.00000</td>\n",
       "    </tr>\n",
       "    <tr>\n",
       "      <th>25%</th>\n",
       "      <td>7.000000e+04</td>\n",
       "      <td>62726.000000</td>\n",
       "      <td>50.00000</td>\n",
       "    </tr>\n",
       "    <tr>\n",
       "      <th>50%</th>\n",
       "      <td>1.150000e+05</td>\n",
       "      <td>101570.000000</td>\n",
       "      <td>100.00000</td>\n",
       "    </tr>\n",
       "    <tr>\n",
       "      <th>75%</th>\n",
       "      <td>1.650000e+05</td>\n",
       "      <td>150000.000000</td>\n",
       "      <td>100.00000</td>\n",
       "    </tr>\n",
       "    <tr>\n",
       "      <th>max</th>\n",
       "      <td>3.040000e+07</td>\n",
       "      <td>600000.000000</td>\n",
       "      <td>100.00000</td>\n",
       "    </tr>\n",
       "  </tbody>\n",
       "</table>\n",
       "</div>"
      ],
      "text/plain": [
       "             salary  salary_in_usd  remote_ratio\n",
       "count  6.070000e+02     607.000000     607.00000\n",
       "mean   3.240001e+05  112297.869852      70.92257\n",
       "std    1.544357e+06   70957.259411      40.70913\n",
       "min    4.000000e+03    2859.000000       0.00000\n",
       "25%    7.000000e+04   62726.000000      50.00000\n",
       "50%    1.150000e+05  101570.000000     100.00000\n",
       "75%    1.650000e+05  150000.000000     100.00000\n",
       "max    3.040000e+07  600000.000000     100.00000"
      ]
     },
     "execution_count": 11,
     "metadata": {},
     "output_type": "execute_result"
    }
   ],
   "source": [
    "df.describe()"
   ]
  },
  {
   "cell_type": "code",
   "execution_count": 12,
   "id": "278464c7",
   "metadata": {},
   "outputs": [
    {
     "data": {
      "text/plain": [
       "experience_level      object\n",
       "employment_type       object\n",
       "job_title             object\n",
       "salary                 int64\n",
       "salary_currency       object\n",
       "salary_in_usd          int64\n",
       "employee_residence    object\n",
       "remote_ratio           int64\n",
       "company_location      object\n",
       "company_size          object\n",
       "dtype: object"
      ]
     },
     "execution_count": 12,
     "metadata": {},
     "output_type": "execute_result"
    }
   ],
   "source": [
    "df.dtypes"
   ]
  },
  {
   "cell_type": "markdown",
   "id": "2ffefcee",
   "metadata": {},
   "source": [
    "## Add new column based on the Salary Currency column"
   ]
  },
  {
   "cell_type": "code",
   "execution_count": 13,
   "id": "152686a2",
   "metadata": {},
   "outputs": [
    {
     "data": {
      "text/plain": [
       "array(['EUR', 'USD', 'GBP', 'HUF', 'INR', 'JPY', 'CNY', 'MXN', 'CAD',\n",
       "       'DKK', 'PLN', 'SGD', 'CLP', 'BRL', 'TRY', 'AUD', 'CHF'],\n",
       "      dtype=object)"
      ]
     },
     "execution_count": 13,
     "metadata": {},
     "output_type": "execute_result"
    }
   ],
   "source": [
    "df.salary_currency.unique()"
   ]
  },
  {
   "cell_type": "code",
   "execution_count": 14,
   "id": "6c46ee4f",
   "metadata": {},
   "outputs": [],
   "source": [
    "def country(row):\n",
    "    if row['salary_currency']=='EUR':\n",
    "        return 'EuropeArea'\n",
    "    elif row['salary_currency']=='USD':\n",
    "        return 'USA'\n",
    "    elif row['salary_currency'] == 'GBP':\n",
    "        return 'UK'\n",
    "    elif row['salary_currency'] == 'INR':\n",
    "        return 'India'\n",
    "    elif row['salary_currency'] == 'CAD':\n",
    "        return 'Canada'\n",
    "    elif row['salary_currency'] == 'JPY':\n",
    "        return 'Japan'\n",
    "    elif row['salary_currency'] == 'PLN':\n",
    "        return 'Poland'\n",
    "    elif row['salary_currency'] == 'TRY':\n",
    "        return 'Turkey'\n",
    "    elif row['salary_currency'] == 'CNY':\n",
    "        return 'China'\n",
    "    elif row['salary_currency'] == 'MXN':\n",
    "        return 'Mexico'\n",
    "    elif row['salary_currency'] == 'HUF':\n",
    "        return 'Hungary'\n",
    "    elif row['salary_currency'] == 'DKK':\n",
    "        return 'Denmark'\n",
    "    elif row['salary_currency'] == 'BRL':\n",
    "        return 'Brazil'\n",
    "    elif row['salary_currency'] == 'AUD':\n",
    "        return 'Australia'\n",
    "    elif row['salary_currency'] == 'CLP':\n",
    "        return 'Chile'\n",
    "    elif row['salary_currency'] == 'CHF':\n",
    "        return 'Switzerland'"
   ]
  },
  {
   "cell_type": "code",
   "execution_count": 15,
   "id": "5c499602",
   "metadata": {},
   "outputs": [],
   "source": [
    "df['Country']=df.apply(lambda row:country(row),axis=1)"
   ]
  },
  {
   "cell_type": "code",
   "execution_count": 16,
   "id": "02ed3344",
   "metadata": {},
   "outputs": [
    {
     "data": {
      "text/html": [
       "<div>\n",
       "<style scoped>\n",
       "    .dataframe tbody tr th:only-of-type {\n",
       "        vertical-align: middle;\n",
       "    }\n",
       "\n",
       "    .dataframe tbody tr th {\n",
       "        vertical-align: top;\n",
       "    }\n",
       "\n",
       "    .dataframe thead th {\n",
       "        text-align: right;\n",
       "    }\n",
       "</style>\n",
       "<table border=\"1\" class=\"dataframe\">\n",
       "  <thead>\n",
       "    <tr style=\"text-align: right;\">\n",
       "      <th></th>\n",
       "      <th>experience_level</th>\n",
       "      <th>employment_type</th>\n",
       "      <th>job_title</th>\n",
       "      <th>salary</th>\n",
       "      <th>salary_currency</th>\n",
       "      <th>salary_in_usd</th>\n",
       "      <th>employee_residence</th>\n",
       "      <th>remote_ratio</th>\n",
       "      <th>company_location</th>\n",
       "      <th>company_size</th>\n",
       "      <th>Country</th>\n",
       "    </tr>\n",
       "    <tr>\n",
       "      <th></th>\n",
       "      <th></th>\n",
       "      <th></th>\n",
       "      <th></th>\n",
       "      <th></th>\n",
       "      <th></th>\n",
       "      <th></th>\n",
       "      <th></th>\n",
       "      <th></th>\n",
       "      <th></th>\n",
       "      <th></th>\n",
       "      <th></th>\n",
       "    </tr>\n",
       "  </thead>\n",
       "  <tbody>\n",
       "    <tr>\n",
       "      <th>2020</th>\n",
       "      <td>MI</td>\n",
       "      <td>FT</td>\n",
       "      <td>Data Scientist</td>\n",
       "      <td>70000</td>\n",
       "      <td>EUR</td>\n",
       "      <td>79833</td>\n",
       "      <td>DE</td>\n",
       "      <td>0</td>\n",
       "      <td>DE</td>\n",
       "      <td>L</td>\n",
       "      <td>EuropeArea</td>\n",
       "    </tr>\n",
       "    <tr>\n",
       "      <th>2020</th>\n",
       "      <td>SE</td>\n",
       "      <td>FT</td>\n",
       "      <td>Machine Learning Scientist</td>\n",
       "      <td>260000</td>\n",
       "      <td>USD</td>\n",
       "      <td>260000</td>\n",
       "      <td>JP</td>\n",
       "      <td>0</td>\n",
       "      <td>JP</td>\n",
       "      <td>S</td>\n",
       "      <td>USA</td>\n",
       "    </tr>\n",
       "    <tr>\n",
       "      <th>2020</th>\n",
       "      <td>SE</td>\n",
       "      <td>FT</td>\n",
       "      <td>Big Data Engineer</td>\n",
       "      <td>85000</td>\n",
       "      <td>GBP</td>\n",
       "      <td>109024</td>\n",
       "      <td>GB</td>\n",
       "      <td>50</td>\n",
       "      <td>GB</td>\n",
       "      <td>M</td>\n",
       "      <td>UK</td>\n",
       "    </tr>\n",
       "    <tr>\n",
       "      <th>2020</th>\n",
       "      <td>MI</td>\n",
       "      <td>FT</td>\n",
       "      <td>Product Data Analyst</td>\n",
       "      <td>20000</td>\n",
       "      <td>USD</td>\n",
       "      <td>20000</td>\n",
       "      <td>HN</td>\n",
       "      <td>0</td>\n",
       "      <td>HN</td>\n",
       "      <td>S</td>\n",
       "      <td>USA</td>\n",
       "    </tr>\n",
       "    <tr>\n",
       "      <th>2020</th>\n",
       "      <td>SE</td>\n",
       "      <td>FT</td>\n",
       "      <td>Machine Learning Engineer</td>\n",
       "      <td>150000</td>\n",
       "      <td>USD</td>\n",
       "      <td>150000</td>\n",
       "      <td>US</td>\n",
       "      <td>50</td>\n",
       "      <td>US</td>\n",
       "      <td>L</td>\n",
       "      <td>USA</td>\n",
       "    </tr>\n",
       "  </tbody>\n",
       "</table>\n",
       "</div>"
      ],
      "text/plain": [
       "     experience_level employment_type                   job_title  salary  \\\n",
       "                                                                            \n",
       "2020               MI              FT              Data Scientist   70000   \n",
       "2020               SE              FT  Machine Learning Scientist  260000   \n",
       "2020               SE              FT           Big Data Engineer   85000   \n",
       "2020               MI              FT        Product Data Analyst   20000   \n",
       "2020               SE              FT   Machine Learning Engineer  150000   \n",
       "\n",
       "     salary_currency  salary_in_usd employee_residence  remote_ratio  \\\n",
       "                                                                       \n",
       "2020             EUR          79833                 DE             0   \n",
       "2020             USD         260000                 JP             0   \n",
       "2020             GBP         109024                 GB            50   \n",
       "2020             USD          20000                 HN             0   \n",
       "2020             USD         150000                 US            50   \n",
       "\n",
       "     company_location company_size     Country  \n",
       "                                                \n",
       "2020               DE            L  EuropeArea  \n",
       "2020               JP            S         USA  \n",
       "2020               GB            M          UK  \n",
       "2020               HN            S         USA  \n",
       "2020               US            L         USA  "
      ]
     },
     "execution_count": 16,
     "metadata": {},
     "output_type": "execute_result"
    }
   ],
   "source": [
    "df.head()"
   ]
  },
  {
   "cell_type": "markdown",
   "id": "dce9657b",
   "metadata": {},
   "source": [
    "# UniVariate Analysis\n",
    "- job Count Based on:<br>\n",
    "Experience Level<br>\n",
    "Employment Type<br>\n",
    "Company Size<br>\n",
    "Remote Ratio<br>"
   ]
  },
  {
   "cell_type": "code",
   "execution_count": 17,
   "id": "ca7fa966",
   "metadata": {},
   "outputs": [
    {
     "data": {
      "image/png": "[encoded data removed]",
      "text/plain": [
       "<Figure size 432x288 with 1 Axes>"
      ]
     },
     "metadata": {
      "needs_background": "light"
     },
     "output_type": "display_data"
    }
   ],
   "source": [
    "df['experience_level'][df.index==2020].value_counts().plot.bar();"
   ]
  },
  {
   "cell_type": "code",
   "execution_count": 18,
   "id": "8f42446a",
   "metadata": {},
   "outputs": [
    {
     "data": {
      "image/png": "[encoded data removed]",
      "text/plain": [
       "<Figure size 432x288 with 1 Axes>"
      ]
     },
     "metadata": {
      "needs_background": "light"
     },
     "output_type": "display_data"
    }
   ],
   "source": [
    "df['experience_level'][df.index==2021].value_counts().plot.bar();"
   ]
  },
  {
   "cell_type": "code",
   "execution_count": 19,
   "id": "cc0ac076",
   "metadata": {},
   "outputs": [
    {
     "data": {
      "image/png": "[encoded data removed]",
      "text/plain": [
       "<Figure size 432x288 with 1 Axes>"
      ]
     },
     "metadata": {
      "needs_background": "light"
     },
     "output_type": "display_data"
    }
   ],
   "source": [
    "df['experience_level'][df.index==2022].value_counts().plot.bar();"
   ]
  },
  {
   "cell_type": "markdown",
   "id": "f27c834c",
   "metadata": {},
   "source": [
    "- lets compare above plots together"
   ]
  },
  {
   "cell_type": "code",
   "execution_count": 20,
   "id": "f66c77dc",
   "metadata": {},
   "outputs": [],
   "source": [
    "df1=df[df.index==2020]\n",
    "df2=df[df.index==2021]\n",
    "df3=df[df.index==2022]"
   ]
  },
  {
   "cell_type": "code",
   "execution_count": 21,
   "id": "ba7ea4b9",
   "metadata": {},
   "outputs": [
    {
     "data": {
      "image/png": "[encoded data removed]",
      "text/plain": [
       "<Figure size 864x360 with 3 Axes>"
      ]
     },
     "metadata": {
      "needs_background": "light"
     },
     "output_type": "display_data"
    }
   ],
   "source": [
    "fig,axe=plt.subplots(1,3,figsize=(12,5))\n",
    "fig1=sns.countplot(df1,x='experience_level',ax=axe[0],)\n",
    "fig1.set_title('2020')\n",
    "plt.tight_layout();\n",
    "fig2=sns.countplot(df2,x='experience_level',ax=axe[1])\n",
    "fig2.set_title('2021')\n",
    "plt.tight_layout();\n",
    "fig3=sns.countplot(df3,x='experience_level',ax=axe[2])\n",
    "fig3.set_title('2022')\n",
    "plt.tight_layout();"
   ]
  },
  {
   "cell_type": "markdown",
   "id": "53b0606d",
   "metadata": {},
   "source": [
    "- We can see that there are more jobs for entry level in 2021 compare to 2020 and 2022\n",
    "- we can see that medium level jobs are increased from 2020 to 2021 and after that it is not increased\n",
    "- we can see that senior level jobs are increased from 2020-2022 and in the year 2022 jobs for se is large compared to 2020  and 2021\n",
    "- But for executive level experience the job count is down in all the three years, there is no major increase in the job count -from 2021 to 2022"
   ]
  },
  {
   "cell_type": "markdown",
   "id": "bffe7546",
   "metadata": {},
   "source": [
    "## jobs count based on employee types"
   ]
  },
  {
   "cell_type": "code",
   "execution_count": 22,
   "id": "efa0682b",
   "metadata": {},
   "outputs": [
    {
     "data": {
      "text/plain": [
       "FT    68\n",
       "PT     2\n",
       "CT     1\n",
       "FL     1\n",
       "Name: employment_type, dtype: int64"
      ]
     },
     "execution_count": 22,
     "metadata": {},
     "output_type": "execute_result"
    }
   ],
   "source": [
    "df1.employment_type.value_counts()"
   ]
  },
  {
   "cell_type": "code",
   "execution_count": 23,
   "id": "ea0687a1",
   "metadata": {},
   "outputs": [
    {
     "data": {
      "text/plain": [
       "FT    206\n",
       "PT      6\n",
       "CT      3\n",
       "FL      2\n",
       "Name: employment_type, dtype: int64"
      ]
     },
     "execution_count": 23,
     "metadata": {},
     "output_type": "execute_result"
    }
   ],
   "source": [
    "df2.employment_type.value_counts()"
   ]
  },
  {
   "cell_type": "code",
   "execution_count": 24,
   "id": "b6870f61",
   "metadata": {},
   "outputs": [
    {
     "data": {
      "text/plain": [
       "FT    314\n",
       "PT      2\n",
       "FL      1\n",
       "CT      1\n",
       "Name: employment_type, dtype: int64"
      ]
     },
     "execution_count": 24,
     "metadata": {},
     "output_type": "execute_result"
    }
   ],
   "source": [
    "df3.employment_type.value_counts()"
   ]
  },
  {
   "cell_type": "code",
   "execution_count": 25,
   "id": "f899fa19",
   "metadata": {},
   "outputs": [
    {
     "data": {
      "image/png": "[encoded data removed]",
      "text/plain": [
       "<Figure size 864x360 with 3 Axes>"
      ]
     },
     "metadata": {
      "needs_background": "light"
     },
     "output_type": "display_data"
    }
   ],
   "source": [
    "fig,axe=plt.subplots(1,3,figsize=(12,5))\n",
    "fig1=sns.countplot(data=df1,x='employment_type',ax=axe[0],)\n",
    "fig1.set_title('2020')\n",
    "fig1.set_yticks([0,40,80,120,160,200,240,280,320])\n",
    "fig.tight_layout();\n",
    "for i in fig1.containers:\n",
    "    fig1.bar_label(i,)\n",
    "fig2=sns.countplot(df2,x='employment_type',ax=axe[1])\n",
    "fig2.set_title('2021')\n",
    "fig2.set_yticks([0,40,80,120,160,200,240,280,320])\n",
    "plt.tight_layout();\n",
    "for i in fig2.containers:\n",
    "    fig2.bar_label(i,)\n",
    "fig3=sns.countplot(df3,x='employment_type',ax=axe[2])\n",
    "fig3.set_title('2022')\n",
    "fig3.set_yticks([0,40,80,120,160,200,240,280,320])\n",
    "plt.tight_layout();\n",
    "for i in fig3.containers:\n",
    "    fig3.bar_label(i,)"
   ]
  },
  {
   "cell_type": "markdown",
   "id": "a72a654b",
   "metadata": {},
   "source": [
    "- for the year 2020-2022 the full time jobs have increased tremendously"
   ]
  },
  {
   "cell_type": "markdown",
   "id": "77a6c153",
   "metadata": {},
   "source": [
    "## jobs count based on company size"
   ]
  },
  {
   "cell_type": "code",
   "execution_count": 133,
   "id": "0a3caae1",
   "metadata": {},
   "outputs": [
    {
     "data": {
      "image/png": "[encoded data removed]",
      "text/plain": [
       "<Figure size 864x360 with 3 Axes>"
      ]
     },
     "metadata": {
      "needs_background": "light"
     },
     "output_type": "display_data"
    }
   ],
   "source": [
    "fig,axe=plt.subplots(1,3,figsize=(12,5))\n",
    "fig1=sns.countplot(data=df1,x='company_size',ax=axe[0],)\n",
    "fig1.set_title('2020')\n",
    "fig1.set_yticks([0,40,80,120,160,200,240,280])\n",
    "fig.tight_layout();\n",
    "for i in fig1.containers:\n",
    "    fig1.bar_label(i,)\n",
    "fig2=sns.countplot(df2,x='company_size',ax=axe[1])\n",
    "fig2.set_title('2021')\n",
    "fig2.set_yticks([0,40,80,120,160,200,240,280])\n",
    "plt.tight_layout();\n",
    "for i in fig2.containers:\n",
    "    fig2.bar_label(i,)\n",
    "fig3=sns.countplot(df3,x='company_size',ax=axe[2])\n",
    "fig3.set_title('2022')\n",
    "fig3.set_yticks([0,40,80,120,160,200,240,280])\n",
    "plt.tight_layout();\n",
    "for i in fig3.containers:\n",
    "    fig3.bar_label(i,)"
   ]
  },
  {
   "cell_type": "markdown",
   "id": "c2f3c38f",
   "metadata": {},
   "source": [
    "- as we can see 2020 have lowest jobs may be it is because of pandemic.\n",
    "- but we can see that 2022 medium size companyies has hired many pepople.\n",
    "- we can see that low and small size company have low jobs opening in 2022.\n",
    "- we can see from that small size companies have lowest job opening throughout 2020-22 years. may be due to the effect of pandemic"
   ]
  },
  {
   "cell_type": "markdown",
   "id": "61ae45e6",
   "metadata": {},
   "source": [
    "## Job count based on remote"
   ]
  },
  {
   "cell_type": "code",
   "execution_count": 27,
   "id": "7f35b800",
   "metadata": {},
   "outputs": [
    {
     "data": {
      "image/png": "[encoded data removed]",
      "text/plain": [
       "<Figure size 864x360 with 3 Axes>"
      ]
     },
     "metadata": {
      "needs_background": "light"
     },
     "output_type": "display_data"
    }
   ],
   "source": [
    "fig,axe=plt.subplots(1,3,figsize=(12,5))\n",
    "fig1=sns.countplot(data=df1,x='remote_ratio',ax=axe[0])\n",
    "fig1.set_title('2020')\n",
    "fig1.set_yticks([0,40,80,120,160,200,230])\n",
    "fig.tight_layout();\n",
    "for i in fig1.containers:\n",
    "    fig1.bar_label(i,)\n",
    "fig2=sns.countplot(df2,x='remote_ratio',ax=axe[1])\n",
    "fig2.set_title('2021')\n",
    "fig2.set_yticks([0,40,80,120,160,200,230])\n",
    "plt.tight_layout();\n",
    "for i in fig2.containers:\n",
    "    fig2.bar_label(i,)\n",
    "fig3=sns.countplot(df3,x='remote_ratio',ax=axe[2])\n",
    "fig3.set_title('2022')\n",
    "fig3.set_yticks([0,40,80,120,160,200,230])\n",
    "plt.tight_layout();\n",
    "for i in fig3.containers:\n",
    "    fig3.bar_label(i,)"
   ]
  },
  {
   "cell_type": "markdown",
   "id": "1e25709f",
   "metadata": {},
   "source": [
    "- Again we can find that Year 2020 was the bad time for employment, as the job count for all three Job Working Style has less in numbers as compared to other years.\n",
    "- we can find that 2021 was the best period for the Hybrid Mode Job as compared to 2020 and 2022."
   ]
  },
  {
   "cell_type": "markdown",
   "id": "9e4198d8",
   "metadata": {},
   "source": [
    "## top ranked jobs"
   ]
  },
  {
   "cell_type": "code",
   "execution_count": 28,
   "id": "66d425f1",
   "metadata": {},
   "outputs": [
    {
     "data": {
      "text/html": [
       "<div>\n",
       "<style scoped>\n",
       "    .dataframe tbody tr th:only-of-type {\n",
       "        vertical-align: middle;\n",
       "    }\n",
       "\n",
       "    .dataframe tbody tr th {\n",
       "        vertical-align: top;\n",
       "    }\n",
       "\n",
       "    .dataframe thead th {\n",
       "        text-align: right;\n",
       "    }\n",
       "</style>\n",
       "<table border=\"1\" class=\"dataframe\">\n",
       "  <thead>\n",
       "    <tr style=\"text-align: right;\">\n",
       "      <th></th>\n",
       "      <th>experience_level</th>\n",
       "      <th>employment_type</th>\n",
       "      <th>job_title</th>\n",
       "      <th>salary</th>\n",
       "      <th>salary_currency</th>\n",
       "      <th>salary_in_usd</th>\n",
       "      <th>employee_residence</th>\n",
       "      <th>remote_ratio</th>\n",
       "      <th>company_location</th>\n",
       "      <th>company_size</th>\n",
       "      <th>Country</th>\n",
       "    </tr>\n",
       "    <tr>\n",
       "      <th></th>\n",
       "      <th></th>\n",
       "      <th></th>\n",
       "      <th></th>\n",
       "      <th></th>\n",
       "      <th></th>\n",
       "      <th></th>\n",
       "      <th></th>\n",
       "      <th></th>\n",
       "      <th></th>\n",
       "      <th></th>\n",
       "      <th></th>\n",
       "    </tr>\n",
       "  </thead>\n",
       "  <tbody>\n",
       "    <tr>\n",
       "      <th>2020</th>\n",
       "      <td>MI</td>\n",
       "      <td>FT</td>\n",
       "      <td>Data Scientist</td>\n",
       "      <td>70000</td>\n",
       "      <td>EUR</td>\n",
       "      <td>79833</td>\n",
       "      <td>DE</td>\n",
       "      <td>0</td>\n",
       "      <td>DE</td>\n",
       "      <td>L</td>\n",
       "      <td>EuropeArea</td>\n",
       "    </tr>\n",
       "    <tr>\n",
       "      <th>2020</th>\n",
       "      <td>SE</td>\n",
       "      <td>FT</td>\n",
       "      <td>Machine Learning Scientist</td>\n",
       "      <td>260000</td>\n",
       "      <td>USD</td>\n",
       "      <td>260000</td>\n",
       "      <td>JP</td>\n",
       "      <td>0</td>\n",
       "      <td>JP</td>\n",
       "      <td>S</td>\n",
       "      <td>USA</td>\n",
       "    </tr>\n",
       "    <tr>\n",
       "      <th>2020</th>\n",
       "      <td>SE</td>\n",
       "      <td>FT</td>\n",
       "      <td>Big Data Engineer</td>\n",
       "      <td>85000</td>\n",
       "      <td>GBP</td>\n",
       "      <td>109024</td>\n",
       "      <td>GB</td>\n",
       "      <td>50</td>\n",
       "      <td>GB</td>\n",
       "      <td>M</td>\n",
       "      <td>UK</td>\n",
       "    </tr>\n",
       "    <tr>\n",
       "      <th>2020</th>\n",
       "      <td>MI</td>\n",
       "      <td>FT</td>\n",
       "      <td>Product Data Analyst</td>\n",
       "      <td>20000</td>\n",
       "      <td>USD</td>\n",
       "      <td>20000</td>\n",
       "      <td>HN</td>\n",
       "      <td>0</td>\n",
       "      <td>HN</td>\n",
       "      <td>S</td>\n",
       "      <td>USA</td>\n",
       "    </tr>\n",
       "    <tr>\n",
       "      <th>2020</th>\n",
       "      <td>SE</td>\n",
       "      <td>FT</td>\n",
       "      <td>Machine Learning Engineer</td>\n",
       "      <td>150000</td>\n",
       "      <td>USD</td>\n",
       "      <td>150000</td>\n",
       "      <td>US</td>\n",
       "      <td>50</td>\n",
       "      <td>US</td>\n",
       "      <td>L</td>\n",
       "      <td>USA</td>\n",
       "    </tr>\n",
       "  </tbody>\n",
       "</table>\n",
       "</div>"
      ],
      "text/plain": [
       "     experience_level employment_type                   job_title  salary  \\\n",
       "                                                                            \n",
       "2020               MI              FT              Data Scientist   70000   \n",
       "2020               SE              FT  Machine Learning Scientist  260000   \n",
       "2020               SE              FT           Big Data Engineer   85000   \n",
       "2020               MI              FT        Product Data Analyst   20000   \n",
       "2020               SE              FT   Machine Learning Engineer  150000   \n",
       "\n",
       "     salary_currency  salary_in_usd employee_residence  remote_ratio  \\\n",
       "                                                                       \n",
       "2020             EUR          79833                 DE             0   \n",
       "2020             USD         260000                 JP             0   \n",
       "2020             GBP         109024                 GB            50   \n",
       "2020             USD          20000                 HN             0   \n",
       "2020             USD         150000                 US            50   \n",
       "\n",
       "     company_location company_size     Country  \n",
       "                                                \n",
       "2020               DE            L  EuropeArea  \n",
       "2020               JP            S         USA  \n",
       "2020               GB            M          UK  \n",
       "2020               HN            S         USA  \n",
       "2020               US            L         USA  "
      ]
     },
     "execution_count": 28,
     "metadata": {},
     "output_type": "execute_result"
    }
   ],
   "source": [
    "df.head()"
   ]
  },
  {
   "cell_type": "code",
   "execution_count": 29,
   "id": "45bc41f9",
   "metadata": {},
   "outputs": [],
   "source": [
    "top2020_ranked_jobs=df1.job_title.value_counts()[:3]\n",
    "top2021_ranked_jobs=df2.job_title.value_counts()[:3]\n",
    "top2022_ranked_jobs=df3.job_title.value_counts()[:3]"
   ]
  },
  {
   "cell_type": "code",
   "execution_count": 30,
   "id": "d7e8f441",
   "metadata": {},
   "outputs": [
    {
     "data": {
      "text/plain": [
       "Index(['Data Scientist', 'Data Engineer', 'Data Analyst'], dtype='object')"
      ]
     },
     "execution_count": 30,
     "metadata": {},
     "output_type": "execute_result"
    }
   ],
   "source": [
    "top2020_ranked_jobs.values\n",
    "top2020_ranked_jobs.index"
   ]
  },
  {
   "cell_type": "code",
   "execution_count": 31,
   "id": "ea1303d0",
   "metadata": {},
   "outputs": [
    {
     "data": {
      "image/png": "[encoded data removed]",
      "text/plain": [
       "<Figure size 864x360 with 3 Axes>"
      ]
     },
     "metadata": {
      "needs_background": "light"
     },
     "output_type": "display_data"
    }
   ],
   "source": [
    "fig,axe=plt.subplots(1,3,figsize=(12,5))\n",
    "fig1=sns.barplot(x=top2020_ranked_jobs.index,y=top2020_ranked_jobs.values,ax=axe[0])\n",
    "fig1.set_title('top ranked jobs 2020')\n",
    "fig1.set_yticks([0,20,40,60,80,100])\n",
    "fig1.set_xticklabels(fig1.get_xticklabels(),rotation=45)\n",
    "fig.tight_layout();\n",
    "for i in fig1.containers:\n",
    "    fig1.bar_label(i,)\n",
    "fig2=sns.barplot(x=top2021_ranked_jobs.index,y=top2021_ranked_jobs.values,ax=axe[1])\n",
    "fig2.set_title('top ranked jobs 2021')\n",
    "fig2.set_yticks([0,20,40,60,80,100])\n",
    "fig2.set_xticklabels(fig2.get_xticklabels(),rotation=45)\n",
    "plt.tight_layout();\n",
    "for i in fig2.containers:\n",
    "    fig2.bar_label(i,)\n",
    "fig3=sns.barplot(x=top2022_ranked_jobs.index,y=top2022_ranked_jobs.values,ax=axe[2])\n",
    "fig3.set_title('top ranked jobs 2022')\n",
    "fig3.set_yticks([0,20,40,60,80,100])\n",
    "fig3.set_xticklabels(fig3.get_xticklabels(),rotation=45)\n",
    "plt.tight_layout();\n",
    "for i in fig3.containers:\n",
    "    fig3.bar_label(i,)"
   ]
  },
  {
   "cell_type": "markdown",
   "id": "d4c6c324",
   "metadata": {},
   "source": [
    "- From 2020 to 2022, there is a steady increase in the job count in Data Scientist. Also it holds the first position among all other jobs in the year 2020 and 2021.\n",
    "- After two years Data Engineer job takes first position among all other jobs in 2022 and after two years Data Scientist job takes second position.\n",
    "- Only in 2021 machine learning engineer comes in third place otherwise data analyst was third highest job in rest of the years."
   ]
  },
  {
   "cell_type": "markdown",
   "id": "32d2fb81",
   "metadata": {},
   "source": [
    "## Top ranked salary"
   ]
  },
  {
   "cell_type": "code",
   "execution_count": 32,
   "id": "e33fcdf9",
   "metadata": {},
   "outputs": [],
   "source": [
    "salary_2020=df1.groupby('job_title')['salary_in_usd'].mean().reset_index()\n",
    "salary_2020=salary_2020.nlargest(3,['salary_in_usd'])\n",
    "salary_2021=df2.groupby('job_title')['salary_in_usd'].mean().reset_index()\n",
    "salary_2021=salary_2021.nlargest(3,['salary_in_usd'])\n",
    "salary_2022=df3.groupby('job_title')['salary_in_usd'].mean().reset_index()\n",
    "salary_2022=salary_2022.nlargest(3,['salary_in_usd'])"
   ]
  },
  {
   "cell_type": "code",
   "execution_count": 33,
   "id": "c43b368e",
   "metadata": {},
   "outputs": [
    {
     "data": {
      "text/html": [
       "<div>\n",
       "<style scoped>\n",
       "    .dataframe tbody tr th:only-of-type {\n",
       "        vertical-align: middle;\n",
       "    }\n",
       "\n",
       "    .dataframe tbody tr th {\n",
       "        vertical-align: top;\n",
       "    }\n",
       "\n",
       "    .dataframe thead th {\n",
       "        text-align: right;\n",
       "    }\n",
       "</style>\n",
       "<table border=\"1\" class=\"dataframe\">\n",
       "  <thead>\n",
       "    <tr style=\"text-align: right;\">\n",
       "      <th></th>\n",
       "      <th>job_title</th>\n",
       "      <th>salary_in_usd</th>\n",
       "    </tr>\n",
       "  </thead>\n",
       "  <tbody>\n",
       "    <tr>\n",
       "      <th>11</th>\n",
       "      <td>Director of Data Science</td>\n",
       "      <td>325000.0</td>\n",
       "    </tr>\n",
       "    <tr>\n",
       "      <th>19</th>\n",
       "      <td>Machine Learning Scientist</td>\n",
       "      <td>260000.0</td>\n",
       "    </tr>\n",
       "    <tr>\n",
       "      <th>22</th>\n",
       "      <td>Research Scientist</td>\n",
       "      <td>246000.0</td>\n",
       "    </tr>\n",
       "  </tbody>\n",
       "</table>\n",
       "</div>"
      ],
      "text/plain": [
       "                     job_title  salary_in_usd\n",
       "11    Director of Data Science       325000.0\n",
       "19  Machine Learning Scientist       260000.0\n",
       "22          Research Scientist       246000.0"
      ]
     },
     "execution_count": 33,
     "metadata": {},
     "output_type": "execute_result"
    }
   ],
   "source": [
    "salary_2020"
   ]
  },
  {
   "cell_type": "code",
   "execution_count": 34,
   "id": "c5480327",
   "metadata": {},
   "outputs": [
    {
     "data": {
      "image/png": "[encoded data removed]",
      "text/plain": [
       "<Figure size 864x360 with 3 Axes>"
      ]
     },
     "metadata": {
      "needs_background": "light"
     },
     "output_type": "display_data"
    }
   ],
   "source": [
    "fig,axe=plt.subplots(1,3,figsize=(12,5))\n",
    "fig1=sns.barplot(x=salary_2020.job_title,y=salary_2020.salary_in_usd,ax=axe[0])\n",
    "fig1.set_title('top ranked jobs salary 2020')\n",
    "fig1.set_yticks([0,100000,200000,300000,400000,500000])\n",
    "fig1.set_xticklabels(fig1.get_xticklabels(),rotation=45)\n",
    "fig.tight_layout();\n",
    "for i in fig1.containers:\n",
    "    fig1.bar_label(i,)\n",
    "fig2=sns.barplot(x=salary_2021.job_title,y=salary_2021.salary_in_usd,ax=axe[1])\n",
    "fig2.set_title('top ranked jobs salary 2021')\n",
    "fig2.set_yticks([0,100000,200000,300000,400000,500000])\n",
    "fig2.set_xticklabels(fig2.get_xticklabels(),rotation=45)\n",
    "plt.tight_layout();\n",
    "for i in fig2.containers:\n",
    "    fig2.bar_label(i,)\n",
    "fig3=sns.barplot(x=salary_2022.job_title,y=salary_2022.salary_in_usd,ax=axe[2])\n",
    "fig3.set_title('top ranked jobs salary 2022')\n",
    "fig3.set_yticks([0,100000,200000,300000,400000,500000])\n",
    "fig3.set_xticklabels(fig3.get_xticklabels(),rotation=45)\n",
    "plt.tight_layout();\n",
    "for i in fig3.containers:\n",
    "    fig3.bar_label(i,)"
   ]
  },
  {
   "cell_type": "markdown",
   "id": "92ee6515",
   "metadata": {},
   "source": [
    "- The top three ranked salaries from 2020 to 2022 are the only jobs for directors of data science. Which has highest salary in 2020 (i.e. 325000 in USD) and 3rd highest salary in 2022 (around 197000 in USD).\n",
    "- In all the three years we can find that the top paid jobs are Financial Data Analyst with an average salary of USD 450000 in 2021, Data Analytics Lead with an average salary of USD 405000 in 2022 and Principal Data Engineer with an average salary of USD 328333 in 2021."
   ]
  },
  {
   "cell_type": "markdown",
   "id": "502d7097",
   "metadata": {},
   "source": [
    "## Top ranked salary offering country"
   ]
  },
  {
   "cell_type": "code",
   "execution_count": 35,
   "id": "ec6d8291",
   "metadata": {},
   "outputs": [
    {
     "data": {
      "text/html": [
       "<div>\n",
       "<style scoped>\n",
       "    .dataframe tbody tr th:only-of-type {\n",
       "        vertical-align: middle;\n",
       "    }\n",
       "\n",
       "    .dataframe tbody tr th {\n",
       "        vertical-align: top;\n",
       "    }\n",
       "\n",
       "    .dataframe thead th {\n",
       "        text-align: right;\n",
       "    }\n",
       "</style>\n",
       "<table border=\"1\" class=\"dataframe\">\n",
       "  <thead>\n",
       "    <tr style=\"text-align: right;\">\n",
       "      <th></th>\n",
       "      <th>experience_level</th>\n",
       "      <th>employment_type</th>\n",
       "      <th>job_title</th>\n",
       "      <th>salary</th>\n",
       "      <th>salary_currency</th>\n",
       "      <th>salary_in_usd</th>\n",
       "      <th>employee_residence</th>\n",
       "      <th>remote_ratio</th>\n",
       "      <th>company_location</th>\n",
       "      <th>company_size</th>\n",
       "      <th>Country</th>\n",
       "    </tr>\n",
       "    <tr>\n",
       "      <th></th>\n",
       "      <th></th>\n",
       "      <th></th>\n",
       "      <th></th>\n",
       "      <th></th>\n",
       "      <th></th>\n",
       "      <th></th>\n",
       "      <th></th>\n",
       "      <th></th>\n",
       "      <th></th>\n",
       "      <th></th>\n",
       "      <th></th>\n",
       "    </tr>\n",
       "  </thead>\n",
       "  <tbody>\n",
       "    <tr>\n",
       "      <th>2020</th>\n",
       "      <td>MI</td>\n",
       "      <td>FT</td>\n",
       "      <td>Data Scientist</td>\n",
       "      <td>70000</td>\n",
       "      <td>EUR</td>\n",
       "      <td>79833</td>\n",
       "      <td>DE</td>\n",
       "      <td>0</td>\n",
       "      <td>DE</td>\n",
       "      <td>L</td>\n",
       "      <td>EuropeArea</td>\n",
       "    </tr>\n",
       "    <tr>\n",
       "      <th>2020</th>\n",
       "      <td>SE</td>\n",
       "      <td>FT</td>\n",
       "      <td>Machine Learning Scientist</td>\n",
       "      <td>260000</td>\n",
       "      <td>USD</td>\n",
       "      <td>260000</td>\n",
       "      <td>JP</td>\n",
       "      <td>0</td>\n",
       "      <td>JP</td>\n",
       "      <td>S</td>\n",
       "      <td>USA</td>\n",
       "    </tr>\n",
       "    <tr>\n",
       "      <th>2020</th>\n",
       "      <td>SE</td>\n",
       "      <td>FT</td>\n",
       "      <td>Big Data Engineer</td>\n",
       "      <td>85000</td>\n",
       "      <td>GBP</td>\n",
       "      <td>109024</td>\n",
       "      <td>GB</td>\n",
       "      <td>50</td>\n",
       "      <td>GB</td>\n",
       "      <td>M</td>\n",
       "      <td>UK</td>\n",
       "    </tr>\n",
       "    <tr>\n",
       "      <th>2020</th>\n",
       "      <td>MI</td>\n",
       "      <td>FT</td>\n",
       "      <td>Product Data Analyst</td>\n",
       "      <td>20000</td>\n",
       "      <td>USD</td>\n",
       "      <td>20000</td>\n",
       "      <td>HN</td>\n",
       "      <td>0</td>\n",
       "      <td>HN</td>\n",
       "      <td>S</td>\n",
       "      <td>USA</td>\n",
       "    </tr>\n",
       "    <tr>\n",
       "      <th>2020</th>\n",
       "      <td>SE</td>\n",
       "      <td>FT</td>\n",
       "      <td>Machine Learning Engineer</td>\n",
       "      <td>150000</td>\n",
       "      <td>USD</td>\n",
       "      <td>150000</td>\n",
       "      <td>US</td>\n",
       "      <td>50</td>\n",
       "      <td>US</td>\n",
       "      <td>L</td>\n",
       "      <td>USA</td>\n",
       "    </tr>\n",
       "  </tbody>\n",
       "</table>\n",
       "</div>"
      ],
      "text/plain": [
       "     experience_level employment_type                   job_title  salary  \\\n",
       "                                                                            \n",
       "2020               MI              FT              Data Scientist   70000   \n",
       "2020               SE              FT  Machine Learning Scientist  260000   \n",
       "2020               SE              FT           Big Data Engineer   85000   \n",
       "2020               MI              FT        Product Data Analyst   20000   \n",
       "2020               SE              FT   Machine Learning Engineer  150000   \n",
       "\n",
       "     salary_currency  salary_in_usd employee_residence  remote_ratio  \\\n",
       "                                                                       \n",
       "2020             EUR          79833                 DE             0   \n",
       "2020             USD         260000                 JP             0   \n",
       "2020             GBP         109024                 GB            50   \n",
       "2020             USD          20000                 HN             0   \n",
       "2020             USD         150000                 US            50   \n",
       "\n",
       "     company_location company_size     Country  \n",
       "                                                \n",
       "2020               DE            L  EuropeArea  \n",
       "2020               JP            S         USA  \n",
       "2020               GB            M          UK  \n",
       "2020               HN            S         USA  \n",
       "2020               US            L         USA  "
      ]
     },
     "execution_count": 35,
     "metadata": {},
     "output_type": "execute_result"
    }
   ],
   "source": [
    "df.head()"
   ]
  },
  {
   "cell_type": "code",
   "execution_count": 36,
   "id": "2f1e67cc",
   "metadata": {},
   "outputs": [
    {
     "data": {
      "text/html": [
       "<div>\n",
       "<style scoped>\n",
       "    .dataframe tbody tr th:only-of-type {\n",
       "        vertical-align: middle;\n",
       "    }\n",
       "\n",
       "    .dataframe tbody tr th {\n",
       "        vertical-align: top;\n",
       "    }\n",
       "\n",
       "    .dataframe thead th {\n",
       "        text-align: right;\n",
       "    }\n",
       "</style>\n",
       "<table border=\"1\" class=\"dataframe\">\n",
       "  <thead>\n",
       "    <tr style=\"text-align: right;\">\n",
       "      <th></th>\n",
       "      <th>Country</th>\n",
       "      <th>job_title</th>\n",
       "      <th>salary_currency</th>\n",
       "      <th>salary</th>\n",
       "    </tr>\n",
       "  </thead>\n",
       "  <tbody>\n",
       "    <tr>\n",
       "      <th>12</th>\n",
       "      <td>Hungary</td>\n",
       "      <td>Data Scientist</td>\n",
       "      <td>HUF</td>\n",
       "      <td>11000000.0</td>\n",
       "    </tr>\n",
       "    <tr>\n",
       "      <th>17</th>\n",
       "      <td>Japan</td>\n",
       "      <td>Data Engineer</td>\n",
       "      <td>JPY</td>\n",
       "      <td>4450000.0</td>\n",
       "    </tr>\n",
       "    <tr>\n",
       "      <th>15</th>\n",
       "      <td>India</td>\n",
       "      <td>Data Scientist</td>\n",
       "      <td>INR</td>\n",
       "      <td>3000000.0</td>\n",
       "    </tr>\n",
       "    <tr>\n",
       "      <th>18</th>\n",
       "      <td>Mexico</td>\n",
       "      <td>Data Engineer</td>\n",
       "      <td>MXN</td>\n",
       "      <td>720000.0</td>\n",
       "    </tr>\n",
       "    <tr>\n",
       "      <th>13</th>\n",
       "      <td>India</td>\n",
       "      <td>Data Analyst</td>\n",
       "      <td>INR</td>\n",
       "      <td>450000.0</td>\n",
       "    </tr>\n",
       "  </tbody>\n",
       "</table>\n",
       "</div>"
      ],
      "text/plain": [
       "    Country       job_title salary_currency      salary\n",
       "12  Hungary  Data Scientist             HUF  11000000.0\n",
       "17    Japan   Data Engineer             JPY   4450000.0\n",
       "15    India  Data Scientist             INR   3000000.0\n",
       "18   Mexico   Data Engineer             MXN    720000.0\n",
       "13    India    Data Analyst             INR    450000.0"
      ]
     },
     "execution_count": 36,
     "metadata": {},
     "output_type": "execute_result"
    }
   ],
   "source": [
    "contry_wise_salary2020=df1.groupby(['Country','job_title','salary_currency'])['salary'].mean().reset_index()\n",
    "contry_wise_salary2020=contry_wise_salary2020.nlargest(5,'salary')\n",
    "contry_wise_salary2020"
   ]
  },
  {
   "cell_type": "code",
   "execution_count": 37,
   "id": "4f705abd",
   "metadata": {},
   "outputs": [
    {
     "data": {
      "text/html": [
       "<div>\n",
       "<style scoped>\n",
       "    .dataframe tbody tr th:only-of-type {\n",
       "        vertical-align: middle;\n",
       "    }\n",
       "\n",
       "    .dataframe tbody tr th {\n",
       "        vertical-align: top;\n",
       "    }\n",
       "\n",
       "    .dataframe thead th {\n",
       "        text-align: right;\n",
       "    }\n",
       "</style>\n",
       "<table border=\"1\" class=\"dataframe\">\n",
       "  <thead>\n",
       "    <tr style=\"text-align: right;\">\n",
       "      <th></th>\n",
       "      <th>Country</th>\n",
       "      <th>job_title</th>\n",
       "      <th>salary_currency</th>\n",
       "      <th>salary</th>\n",
       "    </tr>\n",
       "  </thead>\n",
       "  <tbody>\n",
       "    <tr>\n",
       "      <th>8</th>\n",
       "      <td>Chile</td>\n",
       "      <td>Data Scientist</td>\n",
       "      <td>CLP</td>\n",
       "      <td>30400000.0</td>\n",
       "    </tr>\n",
       "    <tr>\n",
       "      <th>24</th>\n",
       "      <td>Hungary</td>\n",
       "      <td>BI Data Analyst</td>\n",
       "      <td>HUF</td>\n",
       "      <td>11000000.0</td>\n",
       "    </tr>\n",
       "    <tr>\n",
       "      <th>34</th>\n",
       "      <td>Japan</td>\n",
       "      <td>ML Engineer</td>\n",
       "      <td>JPY</td>\n",
       "      <td>7750000.0</td>\n",
       "    </tr>\n",
       "    <tr>\n",
       "      <th>29</th>\n",
       "      <td>India</td>\n",
       "      <td>Data Science Manager</td>\n",
       "      <td>INR</td>\n",
       "      <td>5500000.0</td>\n",
       "    </tr>\n",
       "    <tr>\n",
       "      <th>33</th>\n",
       "      <td>India</td>\n",
       "      <td>Machine Learning Engineer</td>\n",
       "      <td>INR</td>\n",
       "      <td>3349998.5</td>\n",
       "    </tr>\n",
       "  </tbody>\n",
       "</table>\n",
       "</div>"
      ],
      "text/plain": [
       "    Country                  job_title salary_currency      salary\n",
       "8     Chile             Data Scientist             CLP  30400000.0\n",
       "24  Hungary            BI Data Analyst             HUF  11000000.0\n",
       "34    Japan                ML Engineer             JPY   7750000.0\n",
       "29    India       Data Science Manager             INR   5500000.0\n",
       "33    India  Machine Learning Engineer             INR   3349998.5"
      ]
     },
     "execution_count": 37,
     "metadata": {},
     "output_type": "execute_result"
    }
   ],
   "source": [
    "contry_wise_salary2021=df2.groupby(['Country','job_title','salary_currency'])['salary'].mean().reset_index()\n",
    "contry_wise_salary2021=contry_wise_salary2021.nlargest(5,'salary')\n",
    "contry_wise_salary2021"
   ]
  },
  {
   "cell_type": "code",
   "execution_count": 38,
   "id": "fb87ea19",
   "metadata": {},
   "outputs": [
    {
     "data": {
      "text/html": [
       "<div>\n",
       "<style scoped>\n",
       "    .dataframe tbody tr th:only-of-type {\n",
       "        vertical-align: middle;\n",
       "    }\n",
       "\n",
       "    .dataframe tbody tr th {\n",
       "        vertical-align: top;\n",
       "    }\n",
       "\n",
       "    .dataframe thead th {\n",
       "        text-align: right;\n",
       "    }\n",
       "</style>\n",
       "<table border=\"1\" class=\"dataframe\">\n",
       "  <thead>\n",
       "    <tr style=\"text-align: right;\">\n",
       "      <th></th>\n",
       "      <th>Country</th>\n",
       "      <th>job_title</th>\n",
       "      <th>salary_currency</th>\n",
       "      <th>salary</th>\n",
       "    </tr>\n",
       "  </thead>\n",
       "  <tbody>\n",
       "    <tr>\n",
       "      <th>21</th>\n",
       "      <td>India</td>\n",
       "      <td>Head of Machine Learning</td>\n",
       "      <td>INR</td>\n",
       "      <td>6000000.0</td>\n",
       "    </tr>\n",
       "    <tr>\n",
       "      <th>20</th>\n",
       "      <td>India</td>\n",
       "      <td>Data Scientist</td>\n",
       "      <td>INR</td>\n",
       "      <td>1900000.0</td>\n",
       "    </tr>\n",
       "    <tr>\n",
       "      <th>19</th>\n",
       "      <td>India</td>\n",
       "      <td>Business Data Analyst</td>\n",
       "      <td>INR</td>\n",
       "      <td>1400000.0</td>\n",
       "    </tr>\n",
       "    <tr>\n",
       "      <th>36</th>\n",
       "      <td>USA</td>\n",
       "      <td>Data Analytics Lead</td>\n",
       "      <td>USD</td>\n",
       "      <td>405000.0</td>\n",
       "    </tr>\n",
       "    <tr>\n",
       "      <th>4</th>\n",
       "      <td>Canada</td>\n",
       "      <td>Director of Data Science</td>\n",
       "      <td>CAD</td>\n",
       "      <td>250000.0</td>\n",
       "    </tr>\n",
       "  </tbody>\n",
       "</table>\n",
       "</div>"
      ],
      "text/plain": [
       "   Country                 job_title salary_currency     salary\n",
       "21   India  Head of Machine Learning             INR  6000000.0\n",
       "20   India            Data Scientist             INR  1900000.0\n",
       "19   India     Business Data Analyst             INR  1400000.0\n",
       "36     USA       Data Analytics Lead             USD   405000.0\n",
       "4   Canada  Director of Data Science             CAD   250000.0"
      ]
     },
     "execution_count": 38,
     "metadata": {},
     "output_type": "execute_result"
    }
   ],
   "source": [
    "contry_wise_salary2022=df3.groupby(['Country','job_title','salary_currency'])['salary'].mean().reset_index()\n",
    "contry_wise_salary2022=contry_wise_salary2022.nlargest(5,'salary')\n",
    "contry_wise_salary2022"
   ]
  },
  {
   "cell_type": "code",
   "execution_count": 39,
   "id": "e69df152",
   "metadata": {},
   "outputs": [
    {
     "name": "stderr",
     "output_type": "stream",
     "text": [
      "C:\\Users\\91901\\AppData\\Local\\Temp\\ipykernel_17420\\420176835.py:4: UserWarning: FixedFormatter should only be used together with FixedLocator\n",
      "  fig1.set_xticklabels(fig1.get_xticklabels(),rotation=45)\n",
      "C:\\Users\\91901\\AppData\\Local\\Temp\\ipykernel_17420\\420176835.py:11: UserWarning: FixedFormatter should only be used together with FixedLocator\n",
      "  fig2.set_xticklabels(fig2.get_xticklabels(),rotation=45)\n",
      "C:\\Users\\91901\\AppData\\Local\\Temp\\ipykernel_17420\\420176835.py:18: UserWarning: FixedFormatter should only be used together with FixedLocator\n",
      "  fig3.set_xticklabels(fig3.get_xticklabels(),rotation=45)\n"
     ]
    },
    {
     "data": {
      "image/png": "[encoded data removed]",
      "text/plain": [
       "<Figure size 720x720 with 3 Axes>"
      ]
     },
     "metadata": {
      "needs_background": "light"
     },
     "output_type": "display_data"
    }
   ],
   "source": [
    "fig,axe=plt.subplots(3,1,figsize=(10,10))\n",
    "fig1=sns.barplot(y=contry_wise_salary2020.Country,x=contry_wise_salary2020.salary,ax=axe[0],hue=contry_wise_salary2020.job_title)\n",
    "fig1.set_title('Contry wise salary 2020')\n",
    "fig1.set_xticklabels(fig1.get_xticklabels(),rotation=45)\n",
    "fig.tight_layout();\n",
    "fig1.legend(loc=(1.01,0.2))\n",
    "for i in fig1.containers:\n",
    "    fig1.bar_label(i,fmt='%d')\n",
    "fig2=sns.barplot(y=contry_wise_salary2021.Country,x=contry_wise_salary2021.salary,ax=axe[1],hue=contry_wise_salary2021.job_title)\n",
    "fig2.set_title('Contry wise salary 2021')\n",
    "fig2.set_xticklabels(fig2.get_xticklabels(),rotation=45)\n",
    "plt.tight_layout();\n",
    "fig2.legend(loc=(1.01,0.2))\n",
    "for i in fig2.containers:\n",
    "    fig2.bar_label(i,fmt='%d')\n",
    "fig3=sns.barplot(y=contry_wise_salary2022.Country,x=contry_wise_salary2022.salary,ax=axe[2],hue=contry_wise_salary2022.job_title)\n",
    "fig3.set_title('Contry wise salary 2022')\n",
    "fig3.set_xticklabels(fig3.get_xticklabels(),rotation=45)\n",
    "plt.tight_layout();\n",
    "fig3.legend(loc=(1.01,0.2))\n",
    "for i in fig3.containers:\n",
    "    fig3.bar_label(i,fmt='%d')"
   ]
  },
  {
   "cell_type": "markdown",
   "id": "e9e47912",
   "metadata": {},
   "source": [
    "- from the above we can see that India offers more salary 2020 - 2022 and from the graph we can see that head of machine learning is the highest paid in india and second is data scientist"
   ]
  },
  {
   "cell_type": "code",
   "execution_count": 60,
   "id": "e59bde24",
   "metadata": {},
   "outputs": [
    {
     "data": {
      "text/plain": [
       "Data Scientist                              143\n",
       "Data Engineer                               132\n",
       "Data Analyst                                 97\n",
       "Machine Learning Engineer                    41\n",
       "Research Scientist                           16\n",
       "Data Science Manager                         12\n",
       "Data Architect                               11\n",
       "Big Data Engineer                             8\n",
       "Machine Learning Scientist                    8\n",
       "Principal Data Scientist                      7\n",
       "AI Scientist                                  7\n",
       "Data Science Consultant                       7\n",
       "Director of Data Science                      7\n",
       "Data Analytics Manager                        7\n",
       "ML Engineer                                   6\n",
       "Computer Vision Engineer                      6\n",
       "BI Data Analyst                               6\n",
       "Lead Data Engineer                            6\n",
       "Data Engineering Manager                      5\n",
       "Business Data Analyst                         5\n",
       "Head of Data                                  5\n",
       "Applied Data Scientist                        5\n",
       "Applied Machine Learning Scientist            4\n",
       "Head of Data Science                          4\n",
       "Analytics Engineer                            4\n",
       "Data Analytics Engineer                       4\n",
       "Machine Learning Developer                    3\n",
       "Machine Learning Infrastructure Engineer      3\n",
       "Lead Data Scientist                           3\n",
       "Computer Vision Software Engineer             3\n",
       "Lead Data Analyst                             3\n",
       "Data Science Engineer                         3\n",
       "Principal Data Engineer                       3\n",
       "Principal Data Analyst                        2\n",
       "ETL Developer                                 2\n",
       "Product Data Analyst                          2\n",
       "Director of Data Engineering                  2\n",
       "Financial Data Analyst                        2\n",
       "Cloud Data Engineer                           2\n",
       "Lead Machine Learning Engineer                1\n",
       "NLP Engineer                                  1\n",
       "Head of Machine Learning                      1\n",
       "3D Computer Vision Researcher                 1\n",
       "Data Specialist                               1\n",
       "Staff Data Scientist                          1\n",
       "Big Data Architect                            1\n",
       "Finance Data Analyst                          1\n",
       "Marketing Data Analyst                        1\n",
       "Machine Learning Manager                      1\n",
       "Data Analytics Lead                           1\n",
       "Name: job_title, dtype: int64"
      ]
     },
     "execution_count": 60,
     "metadata": {},
     "output_type": "execute_result"
    }
   ],
   "source": [
    "df.job_title.value_counts()"
   ]
  },
  {
   "cell_type": "code",
   "execution_count": 64,
   "id": "7b07fd64",
   "metadata": {},
   "outputs": [
    {
     "data": {
      "text/plain": [
       "0"
      ]
     },
     "execution_count": 64,
     "metadata": {},
     "output_type": "execute_result"
    }
   ],
   "source": [
    "df['job_title'].isin(['ML']).sum()## this will check if the each row have exact 'ML' them or not"
   ]
  },
  {
   "cell_type": "code",
   "execution_count": 80,
   "id": "e379fcff",
   "metadata": {},
   "outputs": [],
   "source": [
    "machine_learnng_jobs=df.job_title.str.contains('Machine Learning').sum()\n",
    "machine_learnng_jobs+=df['job_title'].str.contains('ML').sum()            ## this line will checks substring ml\n",
    "analyst_jobs=df['job_title'].str.contains('Analyst').sum() \n",
    "data_scientist_jobs=df['job_title'].str.contains('Data Scientist').sum() \n",
    "data_scientist_jobs+=df['job_title'].str.contains('Data Science').sum()\n",
    "data_engineer_jobs=df['job_title'].str.contains('Data Engineer').sum()\n",
    "data_engineer_jobs+=df['job_title'].str.contains('Data Engineering').sum()"
   ]
  },
  {
   "cell_type": "code",
   "execution_count": 96,
   "id": "e8e0f5b7",
   "metadata": {},
   "outputs": [
    {
     "data": {
      "image/png": "[encoded data removed]",
      "text/plain": [
       "<Figure size 864x576 with 1 Axes>"
      ]
     },
     "metadata": {},
     "output_type": "display_data"
    }
   ],
   "source": [
    "labels = 'Machine Learning Job', 'Analyst Job', 'Data Scientist Job', 'Data Engineer Job'\n",
    "sizes = [machine_learnng_jobs,analyst_jobs,data_scientist_jobs,data_engineer_jobs]\n",
    "\n",
    "fig1, ax1 = plt.subplots(figsize=(12,8))\n",
    "ax1.pie(sizes, labels=labels, startangle=90, autopct='%1.1f%%')\n",
    "circle = plt.Circle(xy = (0,0), radius = .7, facecolor = 'grey')\n",
    "plt.gca().add_artist(circle)\n",
    "plt.show;"
   ]
  },
  {
   "cell_type": "markdown",
   "id": "5e7bf788",
   "metadata": {},
   "source": [
    "- Here we conclude that most of the job posts are related to Data Scientist, the second highest being Data Engineer, Machine Learning and Analyst with equal proportion."
   ]
  },
  {
   "cell_type": "markdown",
   "id": "905422ab",
   "metadata": {},
   "source": [
    "## Lets now analyze salary variations based on varies features/columns"
   ]
  },
  {
   "cell_type": "code",
   "execution_count": 134,
   "id": "158f6f6e",
   "metadata": {},
   "outputs": [
    {
     "data": {
      "text/html": [
       "<div>\n",
       "<style scoped>\n",
       "    .dataframe tbody tr th:only-of-type {\n",
       "        vertical-align: middle;\n",
       "    }\n",
       "\n",
       "    .dataframe tbody tr th {\n",
       "        vertical-align: top;\n",
       "    }\n",
       "\n",
       "    .dataframe thead th {\n",
       "        text-align: right;\n",
       "    }\n",
       "</style>\n",
       "<table border=\"1\" class=\"dataframe\">\n",
       "  <thead>\n",
       "    <tr style=\"text-align: right;\">\n",
       "      <th>experience_level</th>\n",
       "      <th>EN</th>\n",
       "      <th>EX</th>\n",
       "      <th>MI</th>\n",
       "      <th>SE</th>\n",
       "    </tr>\n",
       "    <tr>\n",
       "      <th></th>\n",
       "      <th></th>\n",
       "      <th></th>\n",
       "      <th></th>\n",
       "      <th></th>\n",
       "    </tr>\n",
       "  </thead>\n",
       "  <tbody>\n",
       "    <tr>\n",
       "      <th>2020</th>\n",
       "      <td>63648.600000</td>\n",
       "      <td>202416.500000</td>\n",
       "      <td>85950.062500</td>\n",
       "      <td>137240.500000</td>\n",
       "    </tr>\n",
       "    <tr>\n",
       "      <th>2021</th>\n",
       "      <td>59101.021277</td>\n",
       "      <td>223752.727273</td>\n",
       "      <td>85490.088889</td>\n",
       "      <td>126596.188406</td>\n",
       "    </tr>\n",
       "    <tr>\n",
       "      <th>2022</th>\n",
       "      <td>65423.428571</td>\n",
       "      <td>178313.846154</td>\n",
       "      <td>91193.956044</td>\n",
       "      <td>143043.398964</td>\n",
       "    </tr>\n",
       "  </tbody>\n",
       "</table>\n",
       "</div>"
      ],
      "text/plain": [
       "experience_level            EN             EX            MI             SE\n",
       "                                                                          \n",
       "2020              63648.600000  202416.500000  85950.062500  137240.500000\n",
       "2021              59101.021277  223752.727273  85490.088889  126596.188406\n",
       "2022              65423.428571  178313.846154  91193.956044  143043.398964"
      ]
     },
     "execution_count": 134,
     "metadata": {},
     "output_type": "execute_result"
    }
   ],
   "source": [
    "year=df.pivot_table(index=df.index,values='salary_in_usd',columns='experience_level')\n",
    "year"
   ]
  },
  {
   "cell_type": "code",
   "execution_count": 109,
   "id": "e5dc800f",
   "metadata": {},
   "outputs": [
    {
     "data": {
      "text/plain": [
       "<matplotlib.legend.Legend at 0x1b630ef5870>"
      ]
     },
     "execution_count": 109,
     "metadata": {},
     "output_type": "execute_result"
    },
    {
     "data": {
      "image/png": "[encoded data removed]",
      "text/plain": [
       "<Figure size 432x288 with 1 Axes>"
      ]
     },
     "metadata": {
      "needs_background": "light"
     },
     "output_type": "display_data"
    }
   ],
   "source": [
    "year.plot(kind='bar',stacked=True)\n",
    "plt.legend( ['EN: ENTRY LEVEL', 'MI: MID LEVEL', 'SE: SENIOR LEVEL', 'EX: EXECUTIVE LEVEL'],\n",
    "           bbox_to_anchor =(1.00, 1.22), ncol = 4, title = \"Experience Level\")"
   ]
  },
  {
   "cell_type": "code",
   "execution_count": 131,
   "id": "d385bcac",
   "metadata": {},
   "outputs": [
    {
     "data": {
      "image/png": "[encoded data removed]",
      "text/plain": [
       "<Figure size 720x360 with 1 Axes>"
      ]
     },
     "metadata": {
      "needs_background": "light"
     },
     "output_type": "display_data"
    }
   ],
   "source": [
    "## another approach\n",
    "plt.figure(figsize=(10,5))\n",
    "chart = sns.lineplot(x=df.index, y=\"salary_in_usd\", data=df, hue = \"experience_level\", marker= \">\",markersize = 10, errorbar= None)\n",
    "chart.set(title= 'AVERAGE SALARY YEARLY')\n",
    "chart.set_xticks([2020,2021,2022])\n",
    "chart.yaxis.set_major_formatter('${x:1.0f}')\n",
    "plt.legend( ['EN: ENTRY LEVEL', 'MI: MID LEVEL', 'SE: SENIOR LEVEL', 'EX: EXECUTIVE LEVEL'],bbox_to_anchor =(1.00, 1.22), ncol = 4, title = \"Experience Level\")\n",
    "plt.xlabel('year')\n",
    "fig.tight_layout()"
   ]
  },
  {
   "cell_type": "markdown",
   "id": "81625536",
   "metadata": {},
   "source": [
    "- For Entry Level and Mid Level There was no such difference in average salary during 2020-22. Only in the year 2021, there has been some decrease in it. From 2020 to 2022, salaries for entry-level experience remained below USD 75000, and for mid-level experience it remained between USD 75000 to 100000.\n",
    "\n",
    "- For Senior Level Average salary decreased slightly in 2021 but increased to around 150000 USD in 2022.\n",
    "\n",
    "- For Executive Level This is the only experience that had the highest average salary in 2021 relative to experience at the rest of the level, but also had a decline in average salary in 2022 relative to all other categories. In 2020 it was around 200000 USD, in 2021 it increased to around 225000 USD, but in 2022 it fell to around 185000 USD, which was the lowest average salary of this category during 3 years."
   ]
  },
  {
   "cell_type": "code",
   "execution_count": 143,
   "id": "cceeece4",
   "metadata": {},
   "outputs": [
    {
     "data": {
      "image/png": "[encoded data removed]",
      "text/plain": [
       "<Figure size 720x360 with 1 Axes>"
      ]
     },
     "metadata": {
      "needs_background": "light"
     },
     "output_type": "display_data"
    }
   ],
   "source": [
    "plt.figure(figsize=(10,5))\n",
    "chart = sns.lineplot(x=df.index, y=\"salary_in_usd\", data=df, hue = \"company_size\", marker= \">\",markersize = 10, errorbar= None)\n",
    "plt.title('SALARY VARIATION BASED ON COMPANY SIZE (2020-2022)')\n",
    "chart.set_xticks([2020,2021,2022])\n",
    "chart.yaxis.set_major_formatter('${x:1.0f}')\n",
    "plt.legend(['large','small','medium'],loc=(1,1.02))\n",
    "plt.xlabel('year')\n",
    "fig.tight_layout()"
   ]
  },
  {
   "cell_type": "markdown",
   "id": "3196dff9",
   "metadata": {},
   "source": [
    "- For small size companies In 2020 we can find that the average salary of an employee was around 70000 USD but in 2021 it was increased by around 10000 USD and in 2022 it was cut by around 3000 USD.\n",
    "\n",
    "- For medium sized companies The average salary of an employee in the year 2020 was between 110000 and 120000 USD. In 2021, it was reduced to between 70000 and 80000 USD, which can be considered as the biggest decline during the whole 3 years. But in 2022 it again increased to between 120000 and 130000 USD.\n",
    "\n",
    "- For large sized companies Average salary of an employee increased continuously during the 3 year period (2020-22). Firstly in 2020 it was between 100000 and 110000 USD and in 2021 it was between 110000 and 120000 USD and in 2022 it was between 120000 and 130000 USD. So we can say that it was increased by 10000 USD every year.\n",
    "\n",
    "- Conclusion It is clear that larger size companies can afford higher number of employees and their higher wages. But in medium-sized companies, it may happen that they can reduce the number of employees as well as the salary amount. And it's rare to see any big difference in pay differentials at smaller-sized companies."
   ]
  },
  {
   "cell_type": "code",
   "execution_count": 149,
   "id": "c66d66f0",
   "metadata": {},
   "outputs": [
    {
     "data": {
      "image/png": "[encoded data removed]",
      "text/plain": [
       "<Figure size 720x360 with 1 Axes>"
      ]
     },
     "metadata": {
      "needs_background": "light"
     },
     "output_type": "display_data"
    }
   ],
   "source": [
    "plt.figure(figsize=(10,5))\n",
    "chart = sns.lineplot(x=df.index, y=\"salary_in_usd\", data=df, hue = \"employment_type\", marker= \">\",markersize = 10, errorbar= None)\n",
    "plt.title('SALARY VARIATION BASED ON EMPLOYE TYPE (2020-2022)')\n",
    "chart.set_xticks([2020,2021,2022])\n",
    "chart.yaxis.set_major_formatter('${x:1.0f}')\n",
    "plt.legend(loc=(1.05,1.02))\n",
    "plt.xlabel('year')\n",
    "fig.tight_layout()"
   ]
  },
  {
   "cell_type": "markdown",
   "id": "f6b04054",
   "metadata": {},
   "source": [
    "- For Part Time Jobs The average salary in this category had a steady increase for all three years, it was 20000 USD in 2020, increased slightly to around 25000 USD in 2021 and then to around 75000 USD in 2022.\n",
    "\n",
    "- For Freelancer Jobs The average salary in 2020 was around 60000 USD and in 2021 it decreased to around 22000 USD and in 2022 it again increased to around 90000 USD.\n",
    "\n",
    "- For Full Time Jobs Like part time jobs, the average salary for this category also continued to increase over the course of 3 years. Earlier it was around 100000 USD and in 2021 it increased very little after which it increased to around 100500 USD and in 2022 it again increased to around 110000 USD.\n",
    "\n",
    "- For contract based jobs The average salary for this category in the year 2020 was same as full time jobs Average salary in 2020. In 2021, it has increased to between 250000 and 280000 USD, which can be considered as the biggest increase during the whole 3 years. But in 2022, it was reduced again to about 25000 USD, which was similar to the average salary of part-time jobs in the year 2021. And we can consider this as the biggest fall in the entire 3 years.\n",
    "\n",
    "- Conclusion Here we can conclude that the average salary package for full time jobs has been highest as compared to part time jobs and freelancer jobs except in the year 2020 and 2021 so it is likely to remain highest in future also . Since it was the covid period, when most of the companies were moving towards work from home mode or trying to reduce the number of employees, that period gave more opportunities for contract time based jobs."
   ]
  },
  {
   "cell_type": "code",
   "execution_count": 152,
   "id": "ac0fb491",
   "metadata": {},
   "outputs": [
    {
     "data": {
      "image/png": "[encoded data removed]",
      "text/plain": [
       "<Figure size 720x360 with 1 Axes>"
      ]
     },
     "metadata": {
      "needs_background": "light"
     },
     "output_type": "display_data"
    }
   ],
   "source": [
    "plt.figure(figsize=(10,5))\n",
    "chart = sns.lineplot(x=df.index, y=\"salary_in_usd\", data=df, hue = \"remote_ratio\", marker= \">\",markersize = 10, errorbar= None)\n",
    "plt.title('SALARY VARIATION BASED ON REMOTE RATIO (2020-2022)')\n",
    "chart.set_xticks([2020,2021,2022])\n",
    "chart.yaxis.set_major_formatter('${x:1.0f}')\n",
    "plt.legend(['0: WORK FROM OFFICE', '50: HYBRID', '100: WORK FROM HOME'],bbox_to_anchor =(0.85, 1.30), ncol = 4, title = \"REMOTE RATIO\")\n",
    "plt.xlabel('year')\n",
    "fig.tight_layout()"
   ]
  },
  {
   "cell_type": "markdown",
   "id": "83b51117",
   "metadata": {},
   "source": [
    "- For Hybrid Working Mode The average salary in the year 2020 was less than 80000 USD. And increased in 2021 but by a very small amount, after which it was around 80000 USD. But in 2022 it had increased to about 15000 USD and after that it had become about 95000 USD.\n",
    "\n",
    "- For work from office mode The average salary in 2020 was between 90000 and 100000 USD and in 2021 it decreased to around 91000 USD and in 2022 it again increased to around 112000 USD.\n",
    "\n",
    "- For work from home mode The average salary in 2020 was between 100000 and 110000 USD and in 2021 it increased to around 112000 USD and in 2022 it again increased to around 130000 USD.\n",
    "\n",
    "- Conclusion Here we can conclude that the average salary package for work from home mode jobs is highest as compared to work from office and hybrid mode jobs."
   ]
  },
  {
   "cell_type": "code",
   "execution_count": 178,
   "id": "449f60a4",
   "metadata": {},
   "outputs": [
    {
     "data": {
      "text/html": [
       "<div>\n",
       "<style scoped>\n",
       "    .dataframe tbody tr th:only-of-type {\n",
       "        vertical-align: middle;\n",
       "    }\n",
       "\n",
       "    .dataframe tbody tr th {\n",
       "        vertical-align: top;\n",
       "    }\n",
       "\n",
       "    .dataframe thead tr th {\n",
       "        text-align: left;\n",
       "    }\n",
       "\n",
       "    .dataframe thead tr:last-of-type th {\n",
       "        text-align: right;\n",
       "    }\n",
       "</style>\n",
       "<table border=\"1\" class=\"dataframe\">\n",
       "  <thead>\n",
       "    <tr>\n",
       "      <th></th>\n",
       "      <th colspan=\"3\" halign=\"left\">salary</th>\n",
       "      <th colspan=\"3\" halign=\"left\">salary_in_usd</th>\n",
       "    </tr>\n",
       "    <tr>\n",
       "      <th>remote_ratio</th>\n",
       "      <th>0</th>\n",
       "      <th>50</th>\n",
       "      <th>100</th>\n",
       "      <th>0</th>\n",
       "      <th>50</th>\n",
       "      <th>100</th>\n",
       "    </tr>\n",
       "    <tr>\n",
       "      <th>company_size</th>\n",
       "      <th></th>\n",
       "      <th></th>\n",
       "      <th></th>\n",
       "      <th></th>\n",
       "      <th></th>\n",
       "      <th></th>\n",
       "    </tr>\n",
       "  </thead>\n",
       "  <tbody>\n",
       "    <tr>\n",
       "      <th>L</th>\n",
       "      <td>426512.500000</td>\n",
       "      <td>824074.583333</td>\n",
       "      <td>513763.179245</td>\n",
       "      <td>120855.875000</td>\n",
       "      <td>89724.233333</td>\n",
       "      <td>135464.820755</td>\n",
       "    </tr>\n",
       "    <tr>\n",
       "      <th>M</th>\n",
       "      <td>140488.303797</td>\n",
       "      <td>172729.714286</td>\n",
       "      <td>146196.615044</td>\n",
       "      <td>108747.012658</td>\n",
       "      <td>61835.000000</td>\n",
       "      <td>124874.482301</td>\n",
       "    </tr>\n",
       "    <tr>\n",
       "      <th>S</th>\n",
       "      <td>184862.500000</td>\n",
       "      <td>945666.666667</td>\n",
       "      <td>232043.489796</td>\n",
       "      <td>65539.687500</td>\n",
       "      <td>73305.055556</td>\n",
       "      <td>83171.142857</td>\n",
       "    </tr>\n",
       "  </tbody>\n",
       "</table>\n",
       "</div>"
      ],
      "text/plain": [
       "                     salary                                salary_in_usd  \\\n",
       "remote_ratio            0              50             100            0     \n",
       "company_size                                                               \n",
       "L             426512.500000  824074.583333  513763.179245  120855.875000   \n",
       "M             140488.303797  172729.714286  146196.615044  108747.012658   \n",
       "S             184862.500000  945666.666667  232043.489796   65539.687500   \n",
       "\n",
       "                                           \n",
       "remote_ratio           50             100  \n",
       "company_size                               \n",
       "L             89724.233333  135464.820755  \n",
       "M             61835.000000  124874.482301  \n",
       "S             73305.055556   83171.142857  "
      ]
     },
     "execution_count": 178,
     "metadata": {},
     "output_type": "execute_result"
    }
   ],
   "source": [
    "company_size_remote_ratio=df.pivot_table(index=df.company_size,columns='remote_ratio')\n",
    "company_size_remote_ratio"
   ]
  },
  {
   "cell_type": "code",
   "execution_count": 183,
   "id": "d23c6152",
   "metadata": {},
   "outputs": [
    {
     "data": {
      "text/html": [
       "<div>\n",
       "<style scoped>\n",
       "    .dataframe tbody tr th:only-of-type {\n",
       "        vertical-align: middle;\n",
       "    }\n",
       "\n",
       "    .dataframe tbody tr th {\n",
       "        vertical-align: top;\n",
       "    }\n",
       "\n",
       "    .dataframe thead th {\n",
       "        text-align: right;\n",
       "    }\n",
       "</style>\n",
       "<table border=\"1\" class=\"dataframe\">\n",
       "  <thead>\n",
       "    <tr style=\"text-align: right;\">\n",
       "      <th>remote_ratio</th>\n",
       "      <th>0</th>\n",
       "      <th>50</th>\n",
       "      <th>100</th>\n",
       "    </tr>\n",
       "    <tr>\n",
       "      <th>company_size</th>\n",
       "      <th></th>\n",
       "      <th></th>\n",
       "      <th></th>\n",
       "    </tr>\n",
       "  </thead>\n",
       "  <tbody>\n",
       "    <tr>\n",
       "      <th>L</th>\n",
       "      <td>16.16</td>\n",
       "      <td>30.30</td>\n",
       "      <td>53.54</td>\n",
       "    </tr>\n",
       "    <tr>\n",
       "      <th>M</th>\n",
       "      <td>24.23</td>\n",
       "      <td>6.44</td>\n",
       "      <td>69.33</td>\n",
       "    </tr>\n",
       "    <tr>\n",
       "      <th>S</th>\n",
       "      <td>19.28</td>\n",
       "      <td>21.69</td>\n",
       "      <td>59.04</td>\n",
       "    </tr>\n",
       "  </tbody>\n",
       "</table>\n",
       "</div>"
      ],
      "text/plain": [
       "remote_ratio    0      50     100\n",
       "company_size                     \n",
       "L             16.16  30.30  53.54\n",
       "M             24.23   6.44  69.33\n",
       "S             19.28  21.69  59.04"
      ]
     },
     "execution_count": 183,
     "metadata": {},
     "output_type": "execute_result"
    }
   ],
   "source": [
    "result_company_ratio=pd.crosstab(\n",
    "index=df['company_size'],\n",
    "columns=df['remote_ratio'],\n",
    "normalize='index').round(4)*100 \n",
    "result_company_ratio"
   ]
  },
  {
   "cell_type": "code",
   "execution_count": 168,
   "id": "8325f902",
   "metadata": {},
   "outputs": [],
   "source": [
    "?pd.crosstab"
   ]
  },
  {
   "cell_type": "code",
   "execution_count": 171,
   "id": "af6ed95e",
   "metadata": {},
   "outputs": [
    {
     "data": {
      "text/plain": [
       "<matplotlib.legend.Legend at 0x1b6353a1690>"
      ]
     },
     "execution_count": 171,
     "metadata": {},
     "output_type": "execute_result"
    },
    {
     "data": {
      "image/png": "[encoded data removed]",
      "text/plain": [
       "<Figure size 432x288 with 1 Axes>"
      ]
     },
     "metadata": {
      "needs_background": "light"
     },
     "output_type": "display_data"
    }
   ],
   "source": [
    "result_company_ratio.plot(kind='bar',rot=0, label='Remote ratio')\n",
    "plt.title('REMOTE RATIO BASED ON COMPANY SIZE')\n",
    "plt.ylabel('Percentage')\n",
    "plt.ylim(bottom=0, top=100)\n",
    "plt.xlabel('Company size')\n",
    "plt.legend(['0: WORK FROM OFFICE', '50: HYBRID', '100: WORK FROM HOME'],bbox_to_anchor =(1.10, 1.30), ncol = 4, title = \"REMOTE RATIO\")"
   ]
  },
  {
   "cell_type": "markdown",
   "id": "e70a3084",
   "metadata": {},
   "source": [
    "- Conclusion: As we can see all companies, regardless of their company size, offer a high proportion of fully remote jobs and medium sized companies are offering fully remote jobs. Hybrid mode jobs are also preferred over work from office except in medium sized companies."
   ]
  },
  {
   "cell_type": "code",
   "execution_count": 185,
   "id": "fb704da0",
   "metadata": {},
   "outputs": [],
   "source": [
    "result_company_ratio=pd.crosstab(\n",
    "index=df['experience_level'],\n",
    "columns=df['remote_ratio'],\n",
    "normalize='index').round(4)*100 "
   ]
  },
  {
   "cell_type": "code",
   "execution_count": 186,
   "id": "2fb919de",
   "metadata": {},
   "outputs": [
    {
     "data": {
      "image/png": "[encoded data removed]",
      "text/plain": [
       "<Figure size 432x288 with 1 Axes>"
      ]
     },
     "metadata": {
      "needs_background": "light"
     },
     "output_type": "display_data"
    }
   ],
   "source": [
    "result_company_ratio.plot(kind='bar', rot=0, label='Remote ratio')\n",
    "plt.title('REMOTE RATIO BASED ON EXPERIENCE LEVEL')\n",
    "plt.ylabel('Percentage')\n",
    "plt.ylim(bottom=0, top=100)\n",
    "plt.xlabel('Experience Level')\n",
    "plt.legend(['0: WORK FROM OFFICE', '50: HYBRID', '100: WORK FROM HOME'],\n",
    "           bbox_to_anchor =(1.10, 1.30), ncol = 4, title = \"REMOTE RATIO\");"
   ]
  },
  {
   "cell_type": "markdown",
   "id": "0590a486",
   "metadata": {},
   "source": [
    "- At first I was expecting that entry level positions would have the highest percentage of working from the office but here overall the percentage of working from home is highest.\n",
    "\n",
    "- If we consider all three ways of working for all four experience levels, we can find that working full time from home is the most offered way of working.\n",
    "\n",
    "- Hybrid working mode is the most offered way of working compared to working from office for entry level and executive level. For mid-level and senior level, working from office is the more proposed mode as compared to hybrid mode.\n",
    "\n",
    "- If we look at fully remote work, senior and executive jobs as a whole provide the highest percentage of fully remote positions."
   ]
  },
  {
   "cell_type": "markdown",
   "id": "3b6293fa",
   "metadata": {},
   "source": [
    "## CONCLUSION:\n",
    "\n",
    "### JOBS\n",
    "- Working year 2020 was the worst year for job seekers.\n",
    "- Working year 2022 was golden year for job seekers\n",
    "- Senior Level Experience has the top jobs count and Medium level has the second Highest.\n",
    "- Full Time Job has the Highest job count.\n",
    "- Majority of the Jobs are based on fully Work from Home and Work from Office has the second Highest.\n",
    "- Majority of the jobs are offerd by the medium sized companies.\n",
    "- Majority of jobs are based on Data Scientist Post then Data Engineer after that Data Analyst and Machine Learning.\n",
    "\n",
    "### SALARY\n",
    "- It is clear that larger size companies can afford higher number of employees and their higher wages. But in medium-sized companies, it may happen that they can reduce the number of employees as well as the salary amount. And it's rare to see any big difference in pay differentials at smaller-sized companies.\n",
    "\n",
    "- The average salary package for full time jobs has been highest as compared to part time jobs and freelancer jobs except in the year 2020 and 2021 so it is likely to remain highest in future also . Since it was the covid period, when most of the companies were moving towards work from home mode or trying to reduce the number of employees, that period gave more opportunities for contract time based jobs.\n",
    "\n",
    "- The average salary package for work from home mode jobs is highest as compared to work from office and hybrid mode jobs."
   ]
  },
  {
   "cell_type": "code",
   "execution_count": null,
   "id": "aef49207",
   "metadata": {},
   "outputs": [],
   "source": []
  }
 ],
 "metadata": {
  "kernelspec": {
   "display_name": "Python 3 (ipykernel)",
   "language": "python",
   "name": "python3"
  },
  "language_info": {
   "codemirror_mode": {
    "name": "ipython",
    "version": 3
   },
   "file_extension": ".py",
   "mimetype": "text/x-python",
   "name": "python",
   "nbconvert_exporter": "python",
   "pygments_lexer": "ipython3",
   "version": "3.10.4"
  }
 },
 "nbformat": 4,
 "nbformat_minor": 5
}
